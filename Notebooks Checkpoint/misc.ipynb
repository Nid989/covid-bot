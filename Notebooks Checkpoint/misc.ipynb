{
 "metadata": {
  "language_info": {
   "codemirror_mode": {
    "name": "ipython",
    "version": 3
   },
   "file_extension": ".py",
   "mimetype": "text/x-python",
   "name": "python",
   "nbconvert_exporter": "python",
   "pygments_lexer": "ipython3",
   "version": "3.8.8"
  },
  "orig_nbformat": 2,
  "kernelspec": {
   "name": "python388jvsc74a57bd00df97f00cba6ca3b9fa5e333423c3e107000db4919e2ad790c404c8d12dbab42",
   "display_name": "Python 3.8.8 64-bit ('covidbot': conda)"
  },
  "metadata": {
   "interpreter": {
    "hash": "0df97f00cba6ca3b9fa5e333423c3e107000db4919e2ad790c404c8d12dbab42"
   }
  }
 },
 "nbformat": 4,
 "nbformat_minor": 2,
 "cells": [
  {
   "cell_type": "code",
   "execution_count": 5,
   "metadata": {},
   "outputs": [],
   "source": [
    "sample_input = 'aakash bhatnagar\\nakashbharat.bhatnagar@gmail.com\\n8384041898\\nvaodara\\ndelhi\\nplasma AB+\\ndescription'\n",
    "name,email,mobile,city,state,resources,description = read_user_input(sample_input)\n",
    "        "
   ]
  },
  {
   "cell_type": "code",
   "execution_count": 2,
   "metadata": {},
   "outputs": [],
   "source": [
    "def read_user_input(user_input):\n",
    "\n",
    "    l = user_input.split('\\n')\n",
    "    name = l[0]\n",
    "    email = l[1]\n",
    "    mobile = l[2]\n",
    "    city = l[3]\n",
    "    state = l[4]\n",
    "    resources = l[5]\n",
    "    description = l[6]\n",
    "\n",
    "    return name,email,mobile,city,state,resources,description"
   ]
  },
  {
   "cell_type": "code",
   "execution_count": 7,
   "metadata": {},
   "outputs": [
    {
     "output_type": "execute_result",
     "data": {
      "text/plain": [
       "'delhi'"
      ]
     },
     "metadata": {},
     "execution_count": 7
    }
   ],
   "source": [
    "state"
   ]
  },
  {
   "cell_type": "code",
   "execution_count": 4,
   "metadata": {},
   "outputs": [],
   "source": [
    "import requests"
   ]
  },
  {
   "cell_type": "code",
   "execution_count": 5,
   "metadata": {},
   "outputs": [],
   "source": [
    "url = \"https://api.telegram.org/bot1797642990:AAH99XDMXSBycc2V3klWUHGG0Cn9-0EAEKE/setWebhook?url=https://b547f1ca610f.ngrok.io\""
   ]
  },
  {
   "cell_type": "code",
   "execution_count": 8,
   "metadata": {},
   "outputs": [],
   "source": [
    "res = requests.post(url=url)"
   ]
  },
  {
   "cell_type": "code",
   "execution_count": 9,
   "metadata": {},
   "outputs": [
    {
     "output_type": "stream",
     "name": "stdout",
     "text": [
      "{'ok': True, 'result': True, 'description': 'Webhook is already set'}\n"
     ]
    }
   ],
   "source": [
    "print(res.json())"
   ]
  },
  {
   "cell_type": "code",
   "execution_count": 1,
   "metadata": {},
   "outputs": [
    {
     "output_type": "error",
     "ename": "SyntaxError",
     "evalue": "invalid syntax (<ipython-input-1-cd8b84872f21>, line 1)",
     "traceback": [
      "\u001b[1;36m  File \u001b[1;32m\"<ipython-input-1-cd8b84872f21>\"\u001b[1;36m, line \u001b[1;32m1\u001b[0m\n\u001b[1;33m    import python-Levenshtein\u001b[0m\n\u001b[1;37m                 ^\u001b[0m\n\u001b[1;31mSyntaxError\u001b[0m\u001b[1;31m:\u001b[0m invalid syntax\n"
     ]
    }
   ],
   "source": [
    "import python-Levenshtein"
   ]
  },
  {
   "cell_type": "code",
   "execution_count": 2,
   "metadata": {},
   "outputs": [],
   "source": [
    "import nltk"
   ]
  },
  {
   "cell_type": "code",
   "execution_count": 5,
   "metadata": {},
   "outputs": [
    {
     "output_type": "execute_result",
     "data": {
      "text/plain": [
       "2"
      ]
     },
     "metadata": {},
     "execution_count": 5
    }
   ],
   "source": [
    "nltk.edit_distance('Vadodara Gujarat', 'Vakodara Gujarak')"
   ]
  },
  {
   "cell_type": "code",
   "execution_count": 1,
   "metadata": {},
   "outputs": [],
   "source": [
    "import datetime"
   ]
  },
  {
   "cell_type": "code",
   "execution_count": 2,
   "metadata": {},
   "outputs": [
    {
     "output_type": "stream",
     "name": "stdout",
     "text": [
      "2021-05-10T11:18:32.382724\n"
     ]
    }
   ],
   "source": [
    "from datetime import datetime\n",
    "my_date = datetime.now()\n",
    "print(my_date.isoformat())"
   ]
  },
  {
   "cell_type": "code",
   "execution_count": null,
   "metadata": {},
   "outputs": [],
   "source": [
    "import dateutil.parser"
   ]
  },
  {
   "cell_type": "code",
   "execution_count": 6,
   "metadata": {},
   "outputs": [],
   "source": [
    "yourdate = dateutil.parser.parse('2021-05-10T05:29:10.530Z')"
   ]
  },
  {
   "cell_type": "code",
   "execution_count": 8,
   "metadata": {},
   "outputs": [],
   "source": [
    "x = ['2021-05-09T16:33:31.495Z', '2021-05-10T05:26:13.262Z', '2021-05-10T05:29:08.227Z', '2021-05-10T05:29:10.530Z']"
   ]
  },
  {
   "cell_type": "code",
   "execution_count": 10,
   "metadata": {},
   "outputs": [],
   "source": [
    "yourdate = []\n",
    "for i in x:\n",
    "    yourdate.append(dateutil.parser.parse(i))"
   ]
  },
  {
   "cell_type": "code",
   "execution_count": 16,
   "metadata": {},
   "outputs": [
    {
     "output_type": "execute_result",
     "data": {
      "text/plain": [
       "[datetime.datetime(2021, 5, 9, 16, 33, 31, 495000, tzinfo=tzutc()),\n",
       " datetime.datetime(2021, 5, 10, 5, 26, 13, 262000, tzinfo=tzutc()),\n",
       " datetime.datetime(2021, 5, 10, 5, 29, 8, 227000, tzinfo=tzutc()),\n",
       " datetime.datetime(2021, 5, 10, 5, 29, 10, 530000, tzinfo=tzutc())]"
      ]
     },
     "metadata": {},
     "execution_count": 16
    }
   ],
   "source": [
    "yourdate"
   ]
  },
  {
   "cell_type": "code",
   "execution_count": 21,
   "metadata": {},
   "outputs": [],
   "source": [
    "slist = sorted(yourdate, reverse=True)"
   ]
  },
  {
   "cell_type": "code",
   "execution_count": 23,
   "metadata": {},
   "outputs": [
    {
     "output_type": "execute_result",
     "data": {
      "text/plain": [
       "datetime.datetime(2021, 5, 10, 5, 29, 10, 530000, tzinfo=tzutc())"
      ]
     },
     "metadata": {},
     "execution_count": 23
    }
   ],
   "source": [
    "slist[0]"
   ]
  },
  {
   "cell_type": "code",
   "execution_count": 39,
   "metadata": {},
   "outputs": [],
   "source": [
    "x = [{'_id': '6098cd4d39d4b6001573da84', 'name': 'manan', 'mobile': '8160790964', 'email': 'nidbhavsar989@gmail.com', 'city': 'vadodara', 'state': 'gujarat', 'resources': 'plasma_a+', 'description': 'great', 'chatID': '1721282210', 'hasPlasma': 'True', 'published_at': '2021-05-10T06:06:05.532Z', 'createdAt': '2021-05-10T06:06:05.541Z', 'updatedAt': '2021-05-10T06:06:05.541Z', '__v': 0, 'id': '6098cd4d39d4b6001573da84'}, {'_id': '6098cd6a39d4b6001573da85', 'name': 'Nidhir', 'mobile': '7859860581', \n",
    "'email': 'nidbhavsar989@gmail.com', 'city': 'vadodara', 'state': 'gujarat', 'resources': 'plasma_a+', 'description': 'great', 'chatID': '1721282210', 'hasPlasma': 'True', 'published_at': '2021-05-10T06:06:34.278Z', 'createdAt': '2021-05-10T06:06:34.289Z', 'updatedAt': '2021-05-10T06:06:34.289Z', '__v': 0, 'id': '6098cd6a39d4b6001573da85'}]"
   ]
  },
  {
   "cell_type": "code",
   "execution_count": 37,
   "metadata": {},
   "outputs": [
    {
     "output_type": "stream",
     "name": "stdout",
     "text": [
      "2021-05-10 06:06:05.541000+00:00\n2021-05-10 06:06:34.289000+00:00\n"
     ]
    }
   ],
   "source": []
  },
  {
   "cell_type": "code",
   "execution_count": 38,
   "metadata": {},
   "outputs": [
    {
     "output_type": "execute_result",
     "data": {
      "text/plain": [
       "[{'_id': '6098cd4d39d4b6001573da84',\n",
       "  'name': 'manan',\n",
       "  'mobile': '8160790964',\n",
       "  'email': 'nidbhavsar989@gmail.com',\n",
       "  'city': 'vadodara',\n",
       "  'state': 'gujarat',\n",
       "  'resources': 'plasma_a+',\n",
       "  'description': 'great',\n",
       "  'chatID': '1721282210',\n",
       "  'hasPlasma': 'True',\n",
       "  'published_at': '2021-05-10T06:06:05.532Z',\n",
       "  'createdAt': datetime.datetime(2021, 5, 10, 6, 6, 5, 541000, tzinfo=tzutc()),\n",
       "  'updatedAt': '2021-05-10T06:06:05.541Z',\n",
       "  '__v': 0,\n",
       "  'id': '6098cd4d39d4b6001573da84'},\n",
       " {'_id': '6098cd6a39d4b6001573da85',\n",
       "  'name': 'Nidhir',\n",
       "  'mobile': '7859860581',\n",
       "  'email': 'nidbhavsar989@gmail.com',\n",
       "  'city': 'vadodara',\n",
       "  'state': 'gujarat',\n",
       "  'resources': 'plasma_a+',\n",
       "  'description': 'great',\n",
       "  'chatID': '1721282210',\n",
       "  'hasPlasma': 'True',\n",
       "  'published_at': '2021-05-10T06:06:34.278Z',\n",
       "  'createdAt': datetime.datetime(2021, 5, 10, 6, 6, 34, 289000, tzinfo=tzutc()),\n",
       "  'updatedAt': '2021-05-10T06:06:34.289Z',\n",
       "  '__v': 0,\n",
       "  'id': '6098cd6a39d4b6001573da85'}]"
      ]
     },
     "metadata": {},
     "execution_count": 38
    }
   ],
   "source": [
    "for i in x:\n",
    "    "
   ]
  },
  {
   "cell_type": "code",
   "execution_count": null,
   "metadata": {},
   "outputs": [],
   "source": []
  }
 ]
}