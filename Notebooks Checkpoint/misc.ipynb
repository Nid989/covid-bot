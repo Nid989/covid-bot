{
 "metadata": {
  "language_info": {
   "codemirror_mode": {
    "name": "ipython",
    "version": 3
   },
   "file_extension": ".py",
   "mimetype": "text/x-python",
   "name": "python",
   "nbconvert_exporter": "python",
   "pygments_lexer": "ipython3",
   "version": "3.8.5"
  },
  "orig_nbformat": 2,
  "kernelspec": {
   "name": "python385jvsc74a57bd0b8beb85d9160c6f6f48ecbe82861f45710e4392f8002c4ae75d70c4b046bcac1",
   "display_name": "Python 3.8.5 64-bit ('covid-bot')"
  },
  "metadata": {
   "interpreter": {
    "hash": "b8beb85d9160c6f6f48ecbe82861f45710e4392f8002c4ae75d70c4b046bcac1"
   }
  }
 },
 "nbformat": 4,
 "nbformat_minor": 2,
 "cells": [
  {
   "cell_type": "code",
   "execution_count": 5,
   "metadata": {},
   "outputs": [],
   "source": [
    "sample_input = 'aakash bhatnagar\\nakashbharat.bhatnagar@gmail.com\\n8384041898\\nvaodara\\ndelhi\\nplasma AB+\\ndescription'\n",
    "name,email,mobile,city,state,resources,description = read_user_input(sample_input)\n",
    "        "
   ]
  },
  {
   "cell_type": "code",
   "execution_count": 2,
   "metadata": {},
   "outputs": [],
   "source": [
    "def read_user_input(user_input):\n",
    "\n",
    "    l = user_input.split('\\n')\n",
    "    name = l[0]\n",
    "    email = l[1]\n",
    "    mobile = l[2]\n",
    "    city = l[3]\n",
    "    state = l[4]\n",
    "    resources = l[5]\n",
    "    description = l[6]\n",
    "\n",
    "    return name,email,mobile,city,state,resources,description"
   ]
  },
  {
   "cell_type": "code",
   "execution_count": 7,
   "metadata": {},
   "outputs": [
    {
     "output_type": "execute_result",
     "data": {
      "text/plain": [
       "'delhi'"
      ]
     },
     "metadata": {},
     "execution_count": 7
    }
   ],
   "source": [
    "state"
   ]
  },
  {
   "cell_type": "code",
   "execution_count": null,
   "metadata": {},
   "outputs": [],
   "source": []
  }
 ]
}