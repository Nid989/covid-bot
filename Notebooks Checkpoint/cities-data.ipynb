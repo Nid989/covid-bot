{
 "metadata": {
  "language_info": {
   "codemirror_mode": {
    "name": "ipython",
    "version": 3
   },
   "file_extension": ".py",
   "mimetype": "text/x-python",
   "name": "python",
   "nbconvert_exporter": "python",
   "pygments_lexer": "ipython3",
   "version": "3.8.5"
  },
  "orig_nbformat": 2,
  "kernelspec": {
   "name": "python385jvsc74a57bd0c3dd1b5b82f6172d0031733c4dccbcff7794f15adf628e933336fb0b9ac0a0fa",
   "display_name": "Python 3.8.5 64-bit (conda)"
  },
  "metadata": {
   "interpreter": {
    "hash": "0df97f00cba6ca3b9fa5e333423c3e107000db4919e2ad790c404c8d12dbab42"
   }
  }
 },
 "nbformat": 4,
 "nbformat_minor": 2,
 "cells": [
  {
   "source": [
    "import pandas as pd\n",
    "import numpy as np"
   ],
   "cell_type": "code",
   "metadata": {},
   "execution_count": 1,
   "outputs": []
  },
  {
   "cell_type": "code",
   "execution_count": 2,
   "metadata": {},
   "outputs": [],
   "source": [
    "df = pd.read_csv(\"../data/in.csv\")"
   ]
  },
  {
   "cell_type": "code",
   "execution_count": 3,
   "metadata": {},
   "outputs": [
    {
     "output_type": "execute_result",
     "data": {
      "text/plain": [
       "0           Delhi\n",
       "1          Mumbai\n",
       "2         Kolkāta\n",
       "3       Bangalore\n",
       "4         Chennai\n",
       "          ...    \n",
       "182        Panaji\n",
       "183         Damān\n",
       "184     Kavaratti\n",
       "185     Panchkula\n",
       "186    Kagaznāgār\n",
       "Name: city, Length: 187, dtype: object"
      ]
     },
     "metadata": {},
     "execution_count": 3
    }
   ],
   "source": [
    "df.city"
   ]
  },
  {
   "cell_type": "code",
   "execution_count": 4,
   "metadata": {},
   "outputs": [
    {
     "output_type": "execute_result",
     "data": {
      "text/plain": [
       "array(['Delhi', 'Mumbai', 'Kolkāta', 'Bangalore', 'Chennai', 'Hyderābād',\n",
       "       'Pune', 'Ahmadābād', 'Sūrat', 'Lucknow', 'Jaipur', 'Cawnpore',\n",
       "       'Mirzāpur', 'Nāgpur', 'Ghāziābād', 'Indore', 'Vadodara',\n",
       "       'Vishākhapatnam', 'Bhopāl', 'Chinchvad', 'Patna', 'Ludhiāna',\n",
       "       'Āgra', 'Kalyān', 'Madurai', 'Jamshedpur', 'Nāsik', 'Farīdābād',\n",
       "       'Aurangābād', 'Rājkot', 'Meerut', 'Jabalpur', 'Thāne', 'Dhanbād',\n",
       "       'Allahābād', 'Vārānasi', 'Srīnagar', 'Amritsar', 'Alīgarh',\n",
       "       'Bhiwandi', 'Gwalior', 'Bhilai', 'Hāora', 'Rānchi', 'Bezwāda',\n",
       "       'Chandīgarh', 'Mysore', 'Raipur', 'Kota', 'Bareilly', 'Jodhpur',\n",
       "       'Coimbatore', 'Dispur', 'Guwāhāti', 'Solāpur', 'Trichinopoly',\n",
       "       'Hubli', 'Jalandhar', 'Bhubaneshwar', 'Bhayandar', 'Morādābād',\n",
       "       'Kolhāpur', 'Thiruvananthapuram', 'Sahāranpur', 'Warangal',\n",
       "       'Salem', 'Mālegaon', 'Kochi', 'Gorakhpur', 'Shimoga', 'Tiruppūr',\n",
       "       'Guntūr', 'Raurkela', 'Mangalore', 'Nānded', 'Cuttack', 'Chānda',\n",
       "       'Dehra Dūn', 'Durgāpur', 'Āsansol', 'Bhāvnagar', 'Amrāvati',\n",
       "       'Nellore', 'Ajmer', 'Tinnevelly', 'Bīkaner', 'Agartala', 'Ujjain',\n",
       "       'Jhānsi', 'Ulhāsnagar', 'Davangere', 'Jammu', 'Belgaum',\n",
       "       'Gulbarga', 'Jāmnagar', 'Dhūlia', 'Gaya', 'Jalgaon', 'Kurnool',\n",
       "       'Udaipur', 'Bellary', 'Sāngli', 'Tuticorin', 'Calicut', 'Akola',\n",
       "       'Bhāgalpur', 'Sīkar', 'Tumkūr', 'Quilon', 'Muzaffarnagar',\n",
       "       'Bhīlwāra', 'Nizāmābād', 'Bhātpāra', 'Kākināda', 'Parbhani',\n",
       "       'Pānihāti', 'Lātūr', 'Rohtak', 'Rājapālaiyam', 'Ahmadnagar',\n",
       "       'Cuddapah', 'Rājahmundry', 'Alwar', 'Muzaffarpur', 'Bilāspur',\n",
       "       'Mathura', 'Kāmārhāti', 'Patiāla', 'Saugor', 'Bijāpur',\n",
       "       'Brahmapur', 'Shāhjānpur', 'Trichūr', 'Barddhamān', 'Kulti',\n",
       "       'Sambalpur', 'Purnea', 'Hisar', 'Fīrozābād', 'Bīdar', 'Rāmpur',\n",
       "       'Shiliguri', 'Bāli', 'Pānīpat', 'Karīmnagar', 'Bhuj',\n",
       "       'Ichalkaranji', 'Tirupati', 'Hospet', 'Āīzawl', 'Sannai',\n",
       "       'Bārāsat', 'Ratlām', 'Handwāra', 'Drug', 'Imphāl', 'Anantapur',\n",
       "       'Etāwah', 'Rāichūr', 'Ongole', 'Bharatpur', 'Begusarai', 'Sonīpat',\n",
       "       'Rāmgundam', 'Hāpur', 'Uluberiya', 'Porbandar', 'Pāli',\n",
       "       'Vizianagaram', 'Puducherry', 'Karnāl', 'Nāgercoil', 'Tanjore',\n",
       "       'Sambhal', 'Shimla', 'Ghāndīnagar', 'Shillong', 'New Delhi',\n",
       "       'Port Blair', 'Gangtok', 'Kohīma', 'Itānagar', 'Panaji', 'Damān',\n",
       "       'Kavaratti', 'Panchkula', 'Kagaznāgār'], dtype=object)"
      ]
     },
     "metadata": {},
     "execution_count": 4
    }
   ],
   "source": [
    "np.array(df.city)"
   ]
  },
  {
   "cell_type": "code",
   "execution_count": 6,
   "metadata": {},
   "outputs": [],
   "source": [
    "np.save(\"../data/cities\", np.array(df.city))"
   ]
  },
  {
   "cell_type": "code",
   "execution_count": 19,
   "metadata": {},
   "outputs": [],
   "source": [
    "import sys\n",
    "sys.path.append('../')"
   ]
  },
  {
   "cell_type": "code",
   "execution_count": 85,
   "metadata": {},
   "outputs": [],
   "source": [
    "import numpy as np"
   ]
  },
  {
   "cell_type": "code",
   "execution_count": 86,
   "metadata": {},
   "outputs": [],
   "source": [
    "res_list = ['Oxygen Cylinder', 'Plasma', 'Remdesivir', 'Hospital beds', 'Oximeter', 'Ventilator']"
   ]
  },
  {
   "cell_type": "code",
   "execution_count": 87,
   "metadata": {},
   "outputs": [],
   "source": [
    "np.save('../data/res.npy', res_list)"
   ]
  },
  {
   "cell_type": "code",
   "execution_count": 88,
   "metadata": {},
   "outputs": [],
   "source": [
    "res = np.load('../data/res.npy', allow_pickle=True)"
   ]
  },
  {
   "cell_type": "code",
   "execution_count": 89,
   "metadata": {},
   "outputs": [],
   "source": [
    "res = list(res)"
   ]
  },
  {
   "cell_type": "code",
   "execution_count": 90,
   "metadata": {},
   "outputs": [
    {
     "output_type": "stream",
     "name": "stdout",
     "text": [
      "['Oxygen Cylinder', 'Plasma', 'Remdesivir', 'Hospital beds', 'Oximeter', 'Ventilator']\n"
     ]
    }
   ],
   "source": [
    "print(res)"
   ]
  },
  {
   "cell_type": "code",
   "execution_count": 14,
   "metadata": {},
   "outputs": [],
   "source": [
    "dictn = dict(zip(res, [0]*len(res)))"
   ]
  },
  {
   "cell_type": "code",
   "execution_count": 15,
   "metadata": {},
   "outputs": [
    {
     "output_type": "execute_result",
     "data": {
      "text/plain": [
       "{'Verified Oxygen Cylinder': 0,\n",
       " 'Plasma': 0,\n",
       " 'Remdisvir': 0,\n",
       " 'Hospital beds': 0,\n",
       " 'Oximeter': 0,\n",
       " 'Ventilator': 0}"
      ]
     },
     "metadata": {},
     "execution_count": 15
    }
   ],
   "source": [
    "dictn"
   ]
  },
  {
   "cell_type": "code",
   "execution_count": 1,
   "metadata": {},
   "outputs": [],
   "source": [
    "import numpy as np"
   ]
  },
  {
   "cell_type": "code",
   "execution_count": 2,
   "metadata": {},
   "outputs": [
    {
     "output_type": "stream",
     "name": "stdout",
     "text": [
      "Original arrays:\n[ 1.   7.   8.   2.   0.1  3.  15.   2.5]\n"
     ]
    }
   ],
   "source": [
    "array1 = np.array([1, 7, 8, 2, 0.1, 3, 15, 2.5])\n",
    "print(\"Original arrays:\")\n",
    "print(array1)"
   ]
  },
  {
   "cell_type": "code",
   "execution_count": 3,
   "metadata": {},
   "outputs": [
    {
     "output_type": "stream",
     "name": "stdout",
     "text": [
      "\nk smallest values:\n[0.1 1.  2.  2.5]\n"
     ]
    }
   ],
   "source": [
    "k = 4\n",
    "result = np.argpartition(array1, k)\n",
    "print(\"\\nk smallest values:\")\n",
    "print(array1[result[:k]])"
   ]
  },
  {
   "cell_type": "code",
   "execution_count": 6,
   "metadata": {},
   "outputs": [
    {
     "output_type": "execute_result",
     "data": {
      "text/plain": [
       "array([0.1, 1. , 2. , 2.5])"
      ]
     },
     "metadata": {},
     "execution_count": 6
    }
   ],
   "source": [
    "array1[result[:k]]"
   ]
  },
  {
   "cell_type": "code",
   "execution_count": 3,
   "metadata": {},
   "outputs": [
    {
     "output_type": "error",
     "ename": "FileNotFoundError",
     "evalue": "[Errno 2] No such file or directory: 'data/default_dict.npy'",
     "traceback": [
      "\u001b[0;31m---------------------------------------------------------------------------\u001b[0m",
      "\u001b[0;31mFileNotFoundError\u001b[0m                         Traceback (most recent call last)",
      "\u001b[0;32m<ipython-input-3-29cfbad2d4fb>\u001b[0m in \u001b[0;36m<module>\u001b[0;34m\u001b[0m\n\u001b[0;32m----> 1\u001b[0;31m \u001b[0mdict\u001b[0m\u001b[0;34m(\u001b[0m\u001b[0mnp\u001b[0m\u001b[0;34m.\u001b[0m\u001b[0mload\u001b[0m\u001b[0;34m(\u001b[0m\u001b[0;34m'data/default_dict.npy'\u001b[0m\u001b[0;34m,\u001b[0m \u001b[0mallow_pickle\u001b[0m\u001b[0;34m=\u001b[0m \u001b[0;32mTrue\u001b[0m\u001b[0;34m)\u001b[0m\u001b[0;34m)\u001b[0m\u001b[0;34m\u001b[0m\u001b[0;34m\u001b[0m\u001b[0m\n\u001b[0m",
      "\u001b[0;32m~/Desktop/covid-bot/covid-bot/lib/python3.8/site-packages/numpy/lib/npyio.py\u001b[0m in \u001b[0;36mload\u001b[0;34m(file, mmap_mode, allow_pickle, fix_imports, encoding)\u001b[0m\n\u001b[1;32m    415\u001b[0m             \u001b[0mown_fid\u001b[0m \u001b[0;34m=\u001b[0m \u001b[0;32mFalse\u001b[0m\u001b[0;34m\u001b[0m\u001b[0;34m\u001b[0m\u001b[0m\n\u001b[1;32m    416\u001b[0m         \u001b[0;32melse\u001b[0m\u001b[0;34m:\u001b[0m\u001b[0;34m\u001b[0m\u001b[0;34m\u001b[0m\u001b[0m\n\u001b[0;32m--> 417\u001b[0;31m             \u001b[0mfid\u001b[0m \u001b[0;34m=\u001b[0m \u001b[0mstack\u001b[0m\u001b[0;34m.\u001b[0m\u001b[0menter_context\u001b[0m\u001b[0;34m(\u001b[0m\u001b[0mopen\u001b[0m\u001b[0;34m(\u001b[0m\u001b[0mos_fspath\u001b[0m\u001b[0;34m(\u001b[0m\u001b[0mfile\u001b[0m\u001b[0;34m)\u001b[0m\u001b[0;34m,\u001b[0m \u001b[0;34m\"rb\"\u001b[0m\u001b[0;34m)\u001b[0m\u001b[0;34m)\u001b[0m\u001b[0;34m\u001b[0m\u001b[0;34m\u001b[0m\u001b[0m\n\u001b[0m\u001b[1;32m    418\u001b[0m             \u001b[0mown_fid\u001b[0m \u001b[0;34m=\u001b[0m \u001b[0;32mTrue\u001b[0m\u001b[0;34m\u001b[0m\u001b[0;34m\u001b[0m\u001b[0m\n\u001b[1;32m    419\u001b[0m \u001b[0;34m\u001b[0m\u001b[0m\n",
      "\u001b[0;31mFileNotFoundError\u001b[0m: [Errno 2] No such file or directory: 'data/default_dict.npy'"
     ]
    }
   ],
   "source": [
    "dict(np.load('data/de'fault_dict.npy', allow_pickle= True))"
   ]
  },
  {
   "cell_type": "code",
   "execution_count": 1,
   "metadata": {},
   "outputs": [],
   "source": [
    "import json"
   ]
  },
  {
   "cell_type": "code",
   "execution_count": 3,
   "metadata": {},
   "outputs": [],
   "source": [
    "f = open('../telegram_request.json')"
   ]
  },
  {
   "cell_type": "code",
   "execution_count": 4,
   "metadata": {},
   "outputs": [],
   "source": [
    "data = json.load(f)"
   ]
  },
  {
   "cell_type": "code",
   "execution_count": 5,
   "metadata": {},
   "outputs": [
    {
     "output_type": "execute_result",
     "data": {
      "text/plain": [
       "{'update_id': 900070988,\n",
       " 'message': {'message_id': 61,\n",
       "  'from': {'id': 1721282209,\n",
       "   'is_bot': False,\n",
       "   'first_name': 'Nidhir',\n",
       "   'last_name': 'Bhavsar',\n",
       "   'language_code': 'en'},\n",
       "  'chat': {'id': 1721282209,\n",
       "   'first_name': 'Nidhir',\n",
       "   'last_name': 'Bhavsar',\n",
       "   'type': 'private'},\n",
       "  'date': 1619879684,\n",
       "  'text': 'nidhir bhavsar\\nnid989@gmail.com\\n8160790964\\nvadodara\\ngujarat\\n1 2 5\\ndescription',\n",
       "  'entities': [{'offset': 15, 'length': 16, 'type': 'email'},\n",
       "   {'offset': 32, 'length': 10, 'type': 'phone_number'}]}}"
      ]
     },
     "metadata": {},
     "execution_count": 5
    }
   ],
   "source": [
    "data"
   ]
  },
  {
   "cell_type": "code",
   "execution_count": 8,
   "metadata": {},
   "outputs": [
    {
     "output_type": "execute_result",
     "data": {
      "text/plain": [
       "1721282209"
      ]
     },
     "metadata": {},
     "execution_count": 8
    }
   ],
   "source": [
    "data[\"message\"][\"chat\"][\"id\"]"
   ]
  },
  {
   "cell_type": "code",
   "execution_count": 77,
   "metadata": {},
   "outputs": [],
   "source": [
    "dl = ['nidhir', '8160790964', 'nid989@nid.com', 'Vadodara', 'Gujarat', ['Remdisvir', 'Hospital beds', 'Ventilator'], '']"
   ]
  },
  {
   "cell_type": "code",
   "execution_count": 78,
   "metadata": {},
   "outputs": [
    {
     "output_type": "execute_result",
     "data": {
      "text/plain": [
       "['nidhir',\n",
       " '8160790964',\n",
       " 'nid989@nid.com',\n",
       " 'Vadodara',\n",
       " 'Gujarat',\n",
       " ['Remdisvir', 'Hospital beds', 'Ventilator'],\n",
       " '']"
      ]
     },
     "metadata": {},
     "execution_count": 78
    }
   ],
   "source": [
    "dl"
   ]
  },
  {
   "cell_type": "code",
   "execution_count": 3,
   "metadata": {},
   "outputs": [
    {
     "output_type": "execute_result",
     "data": {
      "text/plain": [
       "1721282209"
      ]
     },
     "metadata": {},
     "execution_count": 3
    }
   ],
   "source": [
    "ci = 1721282209\n",
    "ci"
   ]
  },
  {
   "cell_type": "code",
   "execution_count": 4,
   "metadata": {},
   "outputs": [],
   "source": [
    "def save_details(detail_list, chat_id):\n",
    "    detail_list.append(cdhat_id)\n",
    "    np.save(\"detail_list\", detail_list)"
   ]
  },
  {
   "cell_type": "code",
   "execution_count": 7,
   "metadata": {},
   "outputs": [],
   "source": [
    "import numpy as np"
   ]
  },
  {
   "cell_type": "code",
   "execution_count": 6,
   "metadata": {},
   "outputs": [],
   "source": [
    "dict_ = {'Name': '', 'Mobile': '', 'Email': '', 'City': '', 'State': '', 'Resources': [''], 'Description': ''} "
   ]
  },
  {
   "cell_type": "code",
   "execution_count": 80,
   "metadata": {},
   "outputs": [],
   "source": [
    "dict_['chat_id'] = ''\n",
    "dict_['has_plasma'] = False"
   ]
  },
  {
   "cell_type": "code",
   "execution_count": 7,
   "metadata": {},
   "outputs": [
    {
     "output_type": "execute_result",
     "data": {
      "text/plain": [
       "{'Name': '',\n",
       " 'Mobile': '',\n",
       " 'Email': '',\n",
       " 'City': '',\n",
       " 'State': '',\n",
       " 'Resources': [''],\n",
       " 'Description': ''}"
      ]
     },
     "metadata": {},
     "execution_count": 7
    }
   ],
   "source": [
    "dict_"
   ]
  },
  {
   "cell_type": "code",
   "execution_count": 8,
   "metadata": {},
   "outputs": [],
   "source": [
    "np.save('../data/default_dict', dict_)"
   ]
  },
  {
   "cell_type": "code",
   "execution_count": 9,
   "metadata": {},
   "outputs": [],
   "source": [
    "x = np.load('../data/default_dict.npy', allow_pickle=True)"
   ]
  },
  {
   "cell_type": "code",
   "execution_count": 10,
   "metadata": {},
   "outputs": [
    {
     "output_type": "execute_result",
     "data": {
      "text/plain": [
       "array({'Name': '', 'Mobile': '', 'Email': '', 'City': '', 'State': '', 'Resources': [''], 'Description': ''},\n",
       "      dtype=object)"
      ]
     },
     "metadata": {},
     "execution_count": 10
    }
   ],
   "source": [
    "x"
   ]
  },
  {
   "cell_type": "code",
   "execution_count": 22,
   "metadata": {},
   "outputs": [
    {
     "output_type": "stream",
     "name": "stdout",
     "text": [
      "{1: {'Name': 'nidhir Bhavsar', 'Mobile': '8160790964', 'Email': 'nidbhavsar989@gmail.com', 'City': 'Vadodara', 'State': 'Gujarat', 'Resources': ['Hospital beds', 'Oximeter'], 'Description': '', 'chat_id': 1721282209, 'has_plasma': True}}\n"
     ]
    }
   ],
   "source": [
    "a = dict(enumerate(x.flatten(), 1))\n",
    "print()a"
   ]
  },
  {
   "cell_type": "code",
   "execution_count": 18,
   "metadata": {},
   "outputs": [
    {
     "output_type": "execute_result",
     "data": {
      "text/plain": [
       "1721282209"
      ]
     },
     "metadata": {},
     "execution_count": 18
    }
   ],
   "source": [
    "a[1][\"chat_id\"]"
   ]
  },
  {
   "cell_type": "code",
   "execution_count": 64,
   "metadata": {},
   "outputs": [],
   "source": [
    "import json\n",
    "f = open('../telegram_request.json')\n",
    "user_data = json.load(f)\n",
    "txt = user_data[\"message\"][\"text\"]"
   ]
  },
  {
   "cell_type": "code",
   "execution_count": 91,
   "metadata": {},
   "outputs": [
    {
     "output_type": "stream",
     "name": "stdout",
     "text": [
      "nidhir\nnidbhavsar989@gmail.com\n8160790964\nVakodara\nGujarat\n2 3 4\ndescription\n"
     ]
    }
   ],
   "source": [
    "print(txt)"
   ]
  },
  {
   "cell_type": "code",
   "execution_count": 99,
   "metadata": {},
   "outputs": [
    {
     "output_type": "execute_result",
     "data": {
      "text/plain": [
       "\"'nidhir\\\\nnidbhavsar989@gmail.com\\\\n8160790964\\\\nVakodara\\\\nGujarat\\\\n2 3 4\\\\ndescription'\""
      ]
     },
     "metadata": {},
     "execution_count": 99
    }
   ],
   "source": [
    "x = repr(txt)\n",
    "x"
   ]
  },
  {
   "cell_type": "code",
   "execution_count": 104,
   "metadata": {},
   "outputs": [
    {
     "output_type": "execute_result",
     "data": {
      "text/plain": [
       "'nidhir\\\\nnidbhavsar989@gmail.com\\\\n8160790964\\\\nVakodara\\\\nGujarat\\\\n2 3 4\\\\ndescription'"
      ]
     },
     "metadata": {},
     "execution_count": 104
    }
   ],
   "source": [
    "a = txt.replace(\"\\n\", \"\\\\n\")\n",
    "a"
   ]
  },
  {
   "cell_type": "code",
   "execution_count": 105,
   "metadata": {},
   "outputs": [
    {
     "output_type": "stream",
     "name": "stdout",
     "text": [
      "nidhir\\nnidbhavsar989@gmail.com\\n8160790964\\nVakodara\\nGujarat\\n2 3 4\\ndescription\n<class 'str'>\nyes\n"
     ]
    }
   ],
   "source": [
    "# coding=utf8\n",
    "# the above tag defines encoding for this document and is for Python 2.x compatibility\n",
    "\n",
    "import re\n",
    "\n",
    "regex = r\"^([a-zA-Z]+(\\\\n[a-zA-Z]+)+)([0-9]*)@[a-zA-Z]+\\.([a-zA-Z]+(\\\\[a-zA-Z]+)+)[0-9]+\\\\n([a-zA-Z]+(\\\\n[a-zA-Z]+)+)\\\\n([0-9]+( [0-9]+)*)\\\\n[a-zA-Z].*$\"\n",
    "\n",
    "\n",
    "\n",
    "test_str = \"nidhir\\\\nnidbhavsar989@gmail.com\\\\n8160790964\\\\nVakodara\\\\nGujarat\\\\n2 3 4\\\\ndescription\"\n",
    "\n",
    "print(test_str)\n",
    "print(type(test_str))\n",
    "\n",
    "matches = re.match(regex, a)\n",
    "\n",
    "# if matches:\n",
    "#     print (\"Match was found at {start}-{end}: {match}\".format(start = matches.start(), end = matches.end(), match = matches.group()))\n",
    "    \n",
    "#     for groupNum in range(0, len(matches.groups())):\n",
    "#         groupNum = groupNum + 1\n",
    "        \n",
    "#         print (\"Group {groupNum} found at {start}-{end}: {group}\".format(groupNum = groupNum, start = matches.start(groupNum), end = matches.end(groupNum), group = matches.group(groupNum)))\n",
    "\n",
    "# # Note: for Python 2.7 compatibility, use ur\"\" to prefix the regex and u\"\" to prefix the test string and substitution.\n",
    "if matches:\n",
    "    print(\"yes\")\n",
    "else:\n",
    "    print(\"no\")"
   ]
  },
  {
   "cell_type": "code",
   "execution_count": 107,
   "metadata": {},
   "outputs": [
    {
     "output_type": "stream",
     "name": "stdout",
     "text": [
      "yes\n"
     ]
    }
   ],
   "source": [
    "regex = r\"^[0-9]\\sin\\s[a-zA-Z]+$\"\n",
    "\n",
    "test_str = \"2 in vadoara\"\n",
    "\n",
    "matches = re.match(regex, test_str)\n",
    "\n",
    "# if matches:\n",
    "#     print (\"Match was found at {start}-{end}: {match}\".format(start = matches.start(), end = matches.end(), match = matches.group()))\n",
    "    \n",
    "#     for groupNum in range(0, len(matches.groups())):\n",
    "#         groupNum = groupNum + 1\n",
    "        \n",
    "#         print (\"Group {groupNum} found at {start}-{end}: {group}\".format(groupNum = groupNum, start = matches.start(groupNum), end = matches.end(groupNum), group = matches.group(groupNum)))\n",
    "if matches:\n",
    "    print(\"yes\")\n",
    "else:\n",
    "    print(\"no\")"
   ]
  },
  {
   "cell_type": "code",
   "execution_count": 113,
   "metadata": {},
   "outputs": [],
   "source": [
    "def example():\n",
    "    a = \"nidhir\\\\nnidbhavsar989@gmail.com\\\\n8160790964\\\\nVakodara\\\\nGujarat\\\\n2 3 4\\\\ndescription\"\n",
    "    regex = r\"^([a-zA-Z]+(\\\\n[a-zA-Z]+)+)([0-9]*)@[a-zA-Z]+\\.([a-zA-Z]+(\\\\[a-zA-Z]+)+)[0-9]+\\\\n([a-zA-Z]+(\\\\n[a-zA-Z]+)+)\\\\n([0-9]+( [0-9]+)*)\\\\n[a-zA-Z].*$\"\n",
    "    matches = re.match(regex, a)\n",
    "\n",
    "    if matches:\n",
    "        return \"true\"\n",
    "    else: \n",
    "        regex = r\"^[0-9]\\sin\\s[a-zA-Z]+$\"\n",
    "        matches = re.match(regex, a)\n",
    "        if matches:\n",
    "            return \"true 2\"\n",
    "        else:\n",
    "            regex = r\"^[a-zA-Z]{1,2}(\\+|\\-)+( [a-zA-Z]{1,2}(\\+|\\-))*.*$\"\n",
    "            matches = re.match(regex, a)\n",
    "            if matches:\n",
    "                return \"true\"\n",
    "            else:\n",
    "                pass\n",
    "    return \"none\""
   ]
  },
  {
   "cell_type": "code",
   "execution_count": 117,
   "metadata": {},
   "outputs": [
    {
     "output_type": "execute_result",
     "data": {
      "text/plain": [
       "'1 in vadodara'"
      ]
     },
     "metadata": {},
     "execution_count": 117
    }
   ],
   "source": [
    "txt = \"1\\ in vadodara\"\n",
    "a = txt.replace('\\n','\\\\n')\n",
    "a"
   ]
  },
  {
   "cell_type": "code",
   "execution_count": 6,
   "metadata": {},
   "outputs": [
    {
     "output_type": "stream",
     "name": "stdout",
     "text": [
      "Match 1 was found at 0-7: AB+ AB-\nGroup 1 found at 2-3: +\nGroup 2 found at 3-7:  AB-\nGroup 3 found at 6-7: -\n"
     ]
    }
   ],
   "source": [
    "# coding=utf8\n",
    "# the above tag defines encoding for this document and is for Python 2.x compatibility\n",
    "\n",
    "import re\n",
    "\n",
    "regex = r\"^[a-zA-Z]{1,2}(\\+|\\-)+( [a-zA-Z]{1,2}(\\+|\\-))*.*$\"\n",
    "\n",
    "test_str = \"AB+ AB-\"\n",
    "\n",
    "matches = re.finditer(regex, test_str, re.DOTALL)\n",
    "\n",
    "for matchNum, match in enumerate(matches, start=1):\n",
    "    \n",
    "    print (\"Match {matchNum} was found at {start}-{end}: {match}\".format(matchNum = matchNum, start = match.start(), end = match.end(), match = match.group()))\n",
    "    \n",
    "    for groupNum in range(0, len(match.groups())):\n",
    "        groupNum = groupNum + 1\n",
    "        \n",
    "        print (\"Group {groupNum} found at {start}-{end}: {group}\".format(groupNum = groupNum, start = match.start(groupNum), end = match.end(groupNum), group = match.group(groupNum)))\n",
    "\n",
    "# Note: for Python 2.7 compatibility, use ur\"\" to prefix the regex and u\"\" to prefix the test string and substitution.\n"
   ]
  },
  {
   "cell_type": "code",
   "execution_count": 6,
   "metadata": {},
   "outputs": [
    {
     "output_type": "stream",
     "name": "stdout",
     "text": [
      "['1 ', ' Vadodara']\n['1', 'Vadodara']\n"
     ]
    }
   ],
   "source": [
    "x = \"1 in Vadodara\"\n",
    "s = x.split(\"in\")\n",
    "print(s)\n",
    "print([i.strip() for i in s])"
   ]
  },
  {
   "cell_type": "code",
   "execution_count": 51,
   "metadata": {},
   "outputs": [],
   "source": [
    "x =[['Aakash', 'Mumbai', 'Maharashtra', '7859860581', 'Plasma,Remdisvir,Hospital beds,Plasma_ab+ve,Plasma_ab-ve,', '', '2021-05-03T11:01:34.951Z'], ['Aakash', 'Mumbai', 'Maharashtra', '7859860581', 'Remdisvir,Hospital beds,', '', '2021-05-03T11:03:43.351Z'], ['Aakash', 'Mumbai', 'Maharashtra', '7859860581', 'Plasma,Remdisvir,Hospital beds,Plasma_ab+ve,Plasma_ab-ve,', '', '2021-05-03T11:04:08.094Z'], ['Aakash', 'Mumbai', 'Maharashtra', '7859860581', 'Remdisvir,Hospital beds,', '', '2021-05-03T11:07:45.962Z'], ['nidhir', 'Mumbai', 'Maharashtra', '8160790964', 'Remdisvir,Hospital beds,', '', '2021-05-03T11:07:45.962Z'], ['khimendra', 'Mumbai', 'Maharashtra', '9016667385', 'Remdisvir,Hospital beds,', '', '2021-05-03T11:07:45.962Z'],['Khimendra', 'Mumbai', 'Maharashtra', '9016667385', 'Remdisvir,Hospital beds,', '', '2021-05-03T11:07:45.962Z']]"
   ]
  },
  {
   "cell_type": "code",
   "execution_count": 52,
   "metadata": {},
   "outputs": [
    {
     "output_type": "stream",
     "name": "stdout",
     "text": [
      "[['aakash', '7859860581'], ['aakash', '7859860581'], ['aakash', '7859860581'], ['aakash', '7859860581'], ['nidhir', '8160790964'], ['khimendra', '9016667385'], ['khimendra', '9016667385']]\n"
     ]
    }
   ],
   "source": [
    "list_ = []\n",
    "for i in x:\n",
    "    name = i[0].lower()\n",
    "    mobile = i[3] \n",
    "    temp = [name, mobile]\n",
    "    list_.append(temp)\n",
    "print(list_)"
   ]
  },
  {
   "cell_type": "code",
   "execution_count": 58,
   "metadata": {},
   "outputs": [
    {
     "output_type": "stream",
     "name": "stdout",
     "text": [
      "aakash 7859860581\nnidhir 8160790964\nkhimendra 9016667385\n"
     ]
    }
   ],
   "source": [
    "res = list(set(map(lambda i: tuple(sorted(i)), list_)))"
   ]
  },
  {
   "cell_type": "code",
   "execution_count": 53,
   "metadata": {},
   "outputs": [],
   "source": [
    "for i in res:\n",
    "    print(i[1], i[0])"
   ]
  },
  {
   "cell_type": "code",
   "execution_count": 63,
   "metadata": {},
   "outputs": [],
   "source": [
    "temp_msg = \"\"\n",
    "for i in res:\n",
    "    temp_msg = temp_msg + \"{0:<5} {1}\".format(i[1], i[0]) + \"\\n\""
   ]
  },
  {
   "cell_type": "code",
   "execution_count": 64,
   "metadata": {},
   "outputs": [
    {
     "output_type": "stream",
     "name": "stdout",
     "text": [
      "aakash 7859860581\nnidhir 8160790964\nkhimendra 9016667385\n\n"
     ]
    }
   ],
   "source": [
    "print(temp_msg)"
   ]
  },
  {
   "cell_type": "code",
   "execution_count": 1,
   "metadata": {},
   "outputs": [],
   "source": [
    "states = [\"Andhrapradesh\",\"Arunachalpradesh \",\"Assam\",\"Bihar\",\"Chhattisgarh\",\"Goa\",\"Gujarat\",\"Haryana\",\"Himachal Pradesh\",\"JammuandKashmir\",\"Jharkhand\",\"Karnataka\",\"Kerala\",\"Madhypradesh\",\"Maharashtra\",\"Manipur\",\"Meghalaya\",\"Mizoram\",\"Nagaland\",\"Odisha\",\"Punjab\",\"Rajasthan\",\"Sikkim\",\"Tamilnadu\",\"Telangana\",\"Tripura\",\"Uttarpradesh\",\"Uttarakhand\",\"West Bengal\",\"Andaman and Nicobar Islands\",\"Chandigarh\",\"Dadra and Nagar Haveli\",\"Daman and Diu\",\"Lakshadweep\",\"Delhi\",\"Puducherry\"]"
   ]
  },
  {
   "cell_type": "code",
   "execution_count": 2,
   "metadata": {},
   "outputs": [
    {
     "output_type": "execute_result",
     "data": {
      "text/plain": [
       "array(['Andhra Pradesh', 'Arunachal Pradesh ', 'Assam', 'Bihar',\n",
       "       'Chhattisgarh', 'Goa', 'Gujarat', 'Haryana', 'Himachal Pradesh',\n",
       "       'Jammu and Kashmir', 'Jharkhand', 'Karnataka', 'Kerala',\n",
       "       'Madhya Pradesh', 'Maharashtra', 'Manipur', 'Meghalaya', 'Mizoram',\n",
       "       'Nagaland', 'Odisha', 'Punjab', 'Rajasthan', 'Sikkim',\n",
       "       'Tamil Nadu', 'Telangana', 'Tripura', 'Uttar Pradesh',\n",
       "       'Uttarakhand', 'West Bengal', 'Andaman and Nicobar Islands',\n",
       "       'Chandigarh', 'Dadra and Nagar Haveli', 'Daman and Diu',\n",
       "       'Lakshadweep', 'Delhi', 'Puducherry'], dtype='<U27')"
      ]
     },
     "metadata": {},
     "execution_count": 2
    }
   ],
   "source": [
    "import numpy as np\n",
    "np.load('../data/states.npy')"
   ]
  },
  {
   "cell_type": "code",
   "execution_count": 3,
   "metadata": {},
   "outputs": [],
   "source": [
    "np.save('../data/states.npy', states)"
   ]
  },
  {
   "cell_type": "code",
   "execution_count": 5,
   "metadata": {},
   "outputs": [],
   "source": [
    "a = 2\n",
    "if a == 2:\n",
    "    pass\n",
    "else:\n",
    "    print(\"nidhir\")"
   ]
  },
  {
   "cell_type": "code",
   "execution_count": null,
   "metadata": {},
   "outputs": [],
   "source": []
  }
 ]
}