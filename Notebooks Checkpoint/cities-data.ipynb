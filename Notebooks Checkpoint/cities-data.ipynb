{
 "metadata": {
  "language_info": {
   "codemirror_mode": {
    "name": "ipython",
    "version": 3
   },
   "file_extension": ".py",
   "mimetype": "text/x-python",
   "name": "python",
   "nbconvert_exporter": "python",
   "pygments_lexer": "ipython3",
   "version": "3.8.8"
  },
  "orig_nbformat": 2,
  "kernelspec": {
   "name": "python388jvsc74a57bd00df97f00cba6ca3b9fa5e333423c3e107000db4919e2ad790c404c8d12dbab42",
   "display_name": "Python 3.8.8 64-bit ('covidbot': conda)"
  },
  "metadata": {
   "interpreter": {
    "hash": "0df97f00cba6ca3b9fa5e333423c3e107000db4919e2ad790c404c8d12dbab42"
   }
  }
 },
 "nbformat": 4,
 "nbformat_minor": 2,
 "cells": [
  {
   "source": [
    "import pandas as pd\n",
    "import numpy as np"
   ],
   "cell_type": "code",
   "metadata": {},
   "execution_count": 6,
   "outputs": []
  },
  {
   "cell_type": "code",
   "execution_count": 2,
   "metadata": {},
   "outputs": [],
   "source": [
    "df = pd.read_csv(\"../data/in.csv\")"
   ]
  },
  {
   "cell_type": "code",
   "execution_count": 3,
   "metadata": {},
   "outputs": [
    {
     "output_type": "execute_result",
     "data": {
      "text/plain": [
       "0           Delhi\n",
       "1          Mumbai\n",
       "2         Kolkāta\n",
       "3       Bangalore\n",
       "4         Chennai\n",
       "          ...    \n",
       "182        Panaji\n",
       "183         Damān\n",
       "184     Kavaratti\n",
       "185     Panchkula\n",
       "186    Kagaznāgār\n",
       "Name: city, Length: 187, dtype: object"
      ]
     },
     "metadata": {},
     "execution_count": 3
    }
   ],
   "source": [
    "df.city"
   ]
  },
  {
   "cell_type": "code",
   "execution_count": 4,
   "metadata": {},
   "outputs": [
    {
     "output_type": "execute_result",
     "data": {
      "text/plain": [
       "array(['Delhi', 'Mumbai', 'Kolkāta', 'Bangalore', 'Chennai', 'Hyderābād',\n",
       "       'Pune', 'Ahmadābād', 'Sūrat', 'Lucknow', 'Jaipur', 'Cawnpore',\n",
       "       'Mirzāpur', 'Nāgpur', 'Ghāziābād', 'Indore', 'Vadodara',\n",
       "       'Vishākhapatnam', 'Bhopāl', 'Chinchvad', 'Patna', 'Ludhiāna',\n",
       "       'Āgra', 'Kalyān', 'Madurai', 'Jamshedpur', 'Nāsik', 'Farīdābād',\n",
       "       'Aurangābād', 'Rājkot', 'Meerut', 'Jabalpur', 'Thāne', 'Dhanbād',\n",
       "       'Allahābād', 'Vārānasi', 'Srīnagar', 'Amritsar', 'Alīgarh',\n",
       "       'Bhiwandi', 'Gwalior', 'Bhilai', 'Hāora', 'Rānchi', 'Bezwāda',\n",
       "       'Chandīgarh', 'Mysore', 'Raipur', 'Kota', 'Bareilly', 'Jodhpur',\n",
       "       'Coimbatore', 'Dispur', 'Guwāhāti', 'Solāpur', 'Trichinopoly',\n",
       "       'Hubli', 'Jalandhar', 'Bhubaneshwar', 'Bhayandar', 'Morādābād',\n",
       "       'Kolhāpur', 'Thiruvananthapuram', 'Sahāranpur', 'Warangal',\n",
       "       'Salem', 'Mālegaon', 'Kochi', 'Gorakhpur', 'Shimoga', 'Tiruppūr',\n",
       "       'Guntūr', 'Raurkela', 'Mangalore', 'Nānded', 'Cuttack', 'Chānda',\n",
       "       'Dehra Dūn', 'Durgāpur', 'Āsansol', 'Bhāvnagar', 'Amrāvati',\n",
       "       'Nellore', 'Ajmer', 'Tinnevelly', 'Bīkaner', 'Agartala', 'Ujjain',\n",
       "       'Jhānsi', 'Ulhāsnagar', 'Davangere', 'Jammu', 'Belgaum',\n",
       "       'Gulbarga', 'Jāmnagar', 'Dhūlia', 'Gaya', 'Jalgaon', 'Kurnool',\n",
       "       'Udaipur', 'Bellary', 'Sāngli', 'Tuticorin', 'Calicut', 'Akola',\n",
       "       'Bhāgalpur', 'Sīkar', 'Tumkūr', 'Quilon', 'Muzaffarnagar',\n",
       "       'Bhīlwāra', 'Nizāmābād', 'Bhātpāra', 'Kākināda', 'Parbhani',\n",
       "       'Pānihāti', 'Lātūr', 'Rohtak', 'Rājapālaiyam', 'Ahmadnagar',\n",
       "       'Cuddapah', 'Rājahmundry', 'Alwar', 'Muzaffarpur', 'Bilāspur',\n",
       "       'Mathura', 'Kāmārhāti', 'Patiāla', 'Saugor', 'Bijāpur',\n",
       "       'Brahmapur', 'Shāhjānpur', 'Trichūr', 'Barddhamān', 'Kulti',\n",
       "       'Sambalpur', 'Purnea', 'Hisar', 'Fīrozābād', 'Bīdar', 'Rāmpur',\n",
       "       'Shiliguri', 'Bāli', 'Pānīpat', 'Karīmnagar', 'Bhuj',\n",
       "       'Ichalkaranji', 'Tirupati', 'Hospet', 'Āīzawl', 'Sannai',\n",
       "       'Bārāsat', 'Ratlām', 'Handwāra', 'Drug', 'Imphāl', 'Anantapur',\n",
       "       'Etāwah', 'Rāichūr', 'Ongole', 'Bharatpur', 'Begusarai', 'Sonīpat',\n",
       "       'Rāmgundam', 'Hāpur', 'Uluberiya', 'Porbandar', 'Pāli',\n",
       "       'Vizianagaram', 'Puducherry', 'Karnāl', 'Nāgercoil', 'Tanjore',\n",
       "       'Sambhal', 'Shimla', 'Ghāndīnagar', 'Shillong', 'New Delhi',\n",
       "       'Port Blair', 'Gangtok', 'Kohīma', 'Itānagar', 'Panaji', 'Damān',\n",
       "       'Kavaratti', 'Panchkula', 'Kagaznāgār'], dtype=object)"
      ]
     },
     "metadata": {},
     "execution_count": 4
    }
   ],
   "source": [
    "np.array(df.city)"
   ]
  },
  {
   "cell_type": "code",
   "execution_count": 6,
   "metadata": {},
   "outputs": [],
   "source": [
    "np.save(\"../data/cities\", np.array(df.city))"
   ]
  },
  {
   "cell_type": "code",
   "execution_count": 19,
   "metadata": {},
   "outputs": [],
   "source": [
    "import sys\n",
    "sys.path.append('../')"
   ]
  },
  {
   "cell_type": "code",
   "execution_count": 20,
   "metadata": {},
   "outputs": [],
   "source": [
    "import utility"
   ]
  },
  {
   "cell_type": "code",
   "execution_count": 21,
   "metadata": {},
   "outputs": [
    {
     "output_type": "error",
     "ename": "AttributeError",
     "evalue": "module 'utility' has no attribute 'word_similarity'",
     "traceback": [
      "\u001b[0;31m---------------------------------------------------------------------------\u001b[0m",
      "\u001b[0;31mAttributeError\u001b[0m                            Traceback (most recent call last)",
      "\u001b[0;32m<ipython-input-21-cd9c218abbca>\u001b[0m in \u001b[0;36m<module>\u001b[0;34m\u001b[0m\n\u001b[0;32m----> 1\u001b[0;31m \u001b[0mutility\u001b[0m\u001b[0;34m.\u001b[0m\u001b[0mword_similarity\u001b[0m\u001b[0;34m.\u001b[0m\u001b[0mcheck_similarity\u001b[0m\u001b[0;34m(\u001b[0m\u001b[0;34m)\u001b[0m\u001b[0;34m\u001b[0m\u001b[0;34m\u001b[0m\u001b[0m\n\u001b[0m",
      "\u001b[0;31mAttributeError\u001b[0m: module 'utility' has no attribute 'word_similarity'"
     ]
    }
   ],
   "source": []
  },
  {
   "cell_type": "code",
   "execution_count": 8,
   "metadata": {},
   "outputs": [
    {
     "output_type": "execute_result",
     "data": {
      "text/plain": [
       "2"
      ]
     },
     "metadata": {},
     "execution_count": 8
    }
   ],
   "source": [
    "len([1,2])\n"
   ]
  },
  {
   "cell_type": "code",
   "execution_count": 3,
   "metadata": {},
   "outputs": [
    {
     "output_type": "stream",
     "name": "stdout",
     "text": [
      "['Verified Oxygen Cylinder', 'Plasma', 'Remdisvir', 'Hospital beds', 'Oximeter', 'Ventilator']\n"
     ]
    }
   ],
   "source": [
    "# resources -> availability dict\n",
    "resources = zip(res_list, )"
   ]
  },
  {
   "cell_type": "code",
   "execution_count": 7,
   "metadata": {},
   "outputs": [
    {
     "output_type": "stream",
     "name": "stdout",
     "text": [
      "[0, 0, 0, 0, 0, 0]\n"
     ]
    }
   ],
   "source": [
    "availability = [0] * len(res_list) \n",
    "print(availability)"
   ]
  },
  {
   "cell_type": "code",
   "execution_count": 11,
   "metadata": {},
   "outputs": [],
   "source": [
    "resources = dict(zip(res_list, availability))"
   ]
  },
  {
   "cell_type": "code",
   "execution_count": 12,
   "metadata": {},
   "outputs": [
    {
     "output_type": "execute_result",
     "data": {
      "text/plain": [
       "{'Verified Oxygen Cylinder': 0,\n",
       " 'Plasma': 0,\n",
       " 'Remdisvir': 0,\n",
       " 'Hospital beds': 0,\n",
       " 'Oximeter': 0,\n",
       " 'Ventilator': 0}"
      ]
     },
     "metadata": {},
     "execution_count": 12
    }
   ],
   "source": [
    "resources"
   ]
  },
  {
   "cell_type": "code",
   "execution_count": 10,
   "metadata": {},
   "outputs": [
    {
     "output_type": "stream",
     "name": "stdout",
     "text": [
      "c:\\Users\\nidbh\\work\\covid-bot\n"
     ]
    }
   ],
   "source": [
    "cd .."
   ]
  },
  {
   "cell_type": "code",
   "execution_count": 40,
   "metadata": {},
   "outputs": [],
   "source": [
    "res_list = ['Verified Oxygen Cylinder', 'Plasma', 'Remdisvir', 'Hospital beds', 'Oximeter', 'Ventilator']"
   ]
  },
  {
   "cell_type": "code",
   "execution_count": 41,
   "metadata": {},
   "outputs": [],
   "source": [
    "np.save('data/res.npy', res_list)"
   ]
  },
  {
   "cell_type": "code",
   "execution_count": 11,
   "metadata": {},
   "outputs": [],
   "source": [
    "res = np.load('data/res.npy', allow_pickle=True)"
   ]
  },
  {
   "cell_type": "code",
   "execution_count": 12,
   "metadata": {},
   "outputs": [],
   "source": [
    "res = list(res)"
   ]
  },
  {
   "cell_type": "code",
   "execution_count": 13,
   "metadata": {},
   "outputs": [
    {
     "output_type": "stream",
     "name": "stdout",
     "text": [
      "['Verified Oxygen Cylinder', 'Plasma', 'Remdisvir', 'Hospital beds', 'Oximeter', 'Ventilator']\n"
     ]
    }
   ],
   "source": [
    "print(res)"
   ]
  },
  {
   "cell_type": "code",
   "execution_count": 14,
   "metadata": {},
   "outputs": [],
   "source": [
    "dictn = dict(zip(res, [0]*len(res)))"
   ]
  },
  {
   "cell_type": "code",
   "execution_count": 15,
   "metadata": {},
   "outputs": [
    {
     "output_type": "execute_result",
     "data": {
      "text/plain": [
       "{'Verified Oxygen Cylinder': 0,\n",
       " 'Plasma': 0,\n",
       " 'Remdisvir': 0,\n",
       " 'Hospital beds': 0,\n",
       " 'Oximeter': 0,\n",
       " 'Ventilator': 0}"
      ]
     },
     "metadata": {},
     "execution_count": 15
    }
   ],
   "source": [
    "dictn"
   ]
  },
  {
   "cell_type": "code",
   "execution_count": null,
   "metadata": {},
   "outputs": [],
   "source": []
  }
 ]
}