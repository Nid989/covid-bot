{
 "metadata": {
  "language_info": {
   "codemirror_mode": {
    "name": "ipython",
    "version": 3
   },
   "file_extension": ".py",
   "mimetype": "text/x-python",
   "name": "python",
   "nbconvert_exporter": "python",
   "pygments_lexer": "ipython3",
   "version": "3.8.5"
  },
  "orig_nbformat": 2,
  "kernelspec": {
   "name": "python385jvsc74a57bd0c3dd1b5b82f6172d0031733c4dccbcff7794f15adf628e933336fb0b9ac0a0fa",
   "display_name": "Python 3.8.5 64-bit (conda)"
  },
  "metadata": {
   "interpreter": {
    "hash": "0df97f00cba6ca3b9fa5e333423c3e107000db4919e2ad790c404c8d12dbab42"
   }
  }
 },
 "nbformat": 4,
 "nbformat_minor": 2,
 "cells": [
  {
   "source": [
    "import pandas as pd\n",
    "import numpy as np"
   ],
   "cell_type": "code",
   "metadata": {},
   "execution_count": 1,
   "outputs": []
  },
  {
   "cell_type": "code",
   "execution_count": 2,
   "metadata": {},
   "outputs": [],
   "source": [
    "df = pd.read_csv(\"../data/in.csv\")"
   ]
  },
  {
   "cell_type": "code",
   "execution_count": 3,
   "metadata": {},
   "outputs": [
    {
     "output_type": "execute_result",
     "data": {
      "text/plain": [
       "0           Delhi\n",
       "1          Mumbai\n",
       "2         Kolkāta\n",
       "3       Bangalore\n",
       "4         Chennai\n",
       "          ...    \n",
       "182        Panaji\n",
       "183         Damān\n",
       "184     Kavaratti\n",
       "185     Panchkula\n",
       "186    Kagaznāgār\n",
       "Name: city, Length: 187, dtype: object"
      ]
     },
     "metadata": {},
     "execution_count": 3
    }
   ],
   "source": [
    "df.city"
   ]
  },
  {
   "cell_type": "code",
   "execution_count": 4,
   "metadata": {},
   "outputs": [
    {
     "output_type": "execute_result",
     "data": {
      "text/plain": [
       "array(['Delhi', 'Mumbai', 'Kolkāta', 'Bangalore', 'Chennai', 'Hyderābād',\n",
       "       'Pune', 'Ahmadābād', 'Sūrat', 'Lucknow', 'Jaipur', 'Cawnpore',\n",
       "       'Mirzāpur', 'Nāgpur', 'Ghāziābād', 'Indore', 'Vadodara',\n",
       "       'Vishākhapatnam', 'Bhopāl', 'Chinchvad', 'Patna', 'Ludhiāna',\n",
       "       'Āgra', 'Kalyān', 'Madurai', 'Jamshedpur', 'Nāsik', 'Farīdābād',\n",
       "       'Aurangābād', 'Rājkot', 'Meerut', 'Jabalpur', 'Thāne', 'Dhanbād',\n",
       "       'Allahābād', 'Vārānasi', 'Srīnagar', 'Amritsar', 'Alīgarh',\n",
       "       'Bhiwandi', 'Gwalior', 'Bhilai', 'Hāora', 'Rānchi', 'Bezwāda',\n",
       "       'Chandīgarh', 'Mysore', 'Raipur', 'Kota', 'Bareilly', 'Jodhpur',\n",
       "       'Coimbatore', 'Dispur', 'Guwāhāti', 'Solāpur', 'Trichinopoly',\n",
       "       'Hubli', 'Jalandhar', 'Bhubaneshwar', 'Bhayandar', 'Morādābād',\n",
       "       'Kolhāpur', 'Thiruvananthapuram', 'Sahāranpur', 'Warangal',\n",
       "       'Salem', 'Mālegaon', 'Kochi', 'Gorakhpur', 'Shimoga', 'Tiruppūr',\n",
       "       'Guntūr', 'Raurkela', 'Mangalore', 'Nānded', 'Cuttack', 'Chānda',\n",
       "       'Dehra Dūn', 'Durgāpur', 'Āsansol', 'Bhāvnagar', 'Amrāvati',\n",
       "       'Nellore', 'Ajmer', 'Tinnevelly', 'Bīkaner', 'Agartala', 'Ujjain',\n",
       "       'Jhānsi', 'Ulhāsnagar', 'Davangere', 'Jammu', 'Belgaum',\n",
       "       'Gulbarga', 'Jāmnagar', 'Dhūlia', 'Gaya', 'Jalgaon', 'Kurnool',\n",
       "       'Udaipur', 'Bellary', 'Sāngli', 'Tuticorin', 'Calicut', 'Akola',\n",
       "       'Bhāgalpur', 'Sīkar', 'Tumkūr', 'Quilon', 'Muzaffarnagar',\n",
       "       'Bhīlwāra', 'Nizāmābād', 'Bhātpāra', 'Kākināda', 'Parbhani',\n",
       "       'Pānihāti', 'Lātūr', 'Rohtak', 'Rājapālaiyam', 'Ahmadnagar',\n",
       "       'Cuddapah', 'Rājahmundry', 'Alwar', 'Muzaffarpur', 'Bilāspur',\n",
       "       'Mathura', 'Kāmārhāti', 'Patiāla', 'Saugor', 'Bijāpur',\n",
       "       'Brahmapur', 'Shāhjānpur', 'Trichūr', 'Barddhamān', 'Kulti',\n",
       "       'Sambalpur', 'Purnea', 'Hisar', 'Fīrozābād', 'Bīdar', 'Rāmpur',\n",
       "       'Shiliguri', 'Bāli', 'Pānīpat', 'Karīmnagar', 'Bhuj',\n",
       "       'Ichalkaranji', 'Tirupati', 'Hospet', 'Āīzawl', 'Sannai',\n",
       "       'Bārāsat', 'Ratlām', 'Handwāra', 'Drug', 'Imphāl', 'Anantapur',\n",
       "       'Etāwah', 'Rāichūr', 'Ongole', 'Bharatpur', 'Begusarai', 'Sonīpat',\n",
       "       'Rāmgundam', 'Hāpur', 'Uluberiya', 'Porbandar', 'Pāli',\n",
       "       'Vizianagaram', 'Puducherry', 'Karnāl', 'Nāgercoil', 'Tanjore',\n",
       "       'Sambhal', 'Shimla', 'Ghāndīnagar', 'Shillong', 'New Delhi',\n",
       "       'Port Blair', 'Gangtok', 'Kohīma', 'Itānagar', 'Panaji', 'Damān',\n",
       "       'Kavaratti', 'Panchkula', 'Kagaznāgār'], dtype=object)"
      ]
     },
     "metadata": {},
     "execution_count": 4
    }
   ],
   "source": [
    "np.array(df.city)"
   ]
  },
  {
   "cell_type": "code",
   "execution_count": 6,
   "metadata": {},
   "outputs": [],
   "source": [
    "np.save(\"../data/cities\", np.array(df.city))"
   ]
  },
  {
   "cell_type": "code",
   "execution_count": 19,
   "metadata": {},
   "outputs": [],
   "source": [
    "import sys\n",
    "sys.path.append('../')"
   ]
  },
  {
   "cell_type": "code",
   "execution_count": 20,
   "metadata": {},
   "outputs": [],
   "source": [
    "import utility"
   ]
  },
  {
   "cell_type": "code",
   "execution_count": 40,
   "metadata": {},
   "outputs": [],
   "source": [
    "res_list = ['Verified Oxygen Cylinder', 'Plasma', 'Remdisvir', 'Hospital beds', 'Oximeter', 'Ventilator']"
   ]
  },
  {
   "cell_type": "code",
   "execution_count": 41,
   "metadata": {},
   "outputs": [],
   "source": [
    "np.save('data/res.npy', res_list)"
   ]
  },
  {
   "cell_type": "code",
   "execution_count": 11,
   "metadata": {},
   "outputs": [],
   "source": [
    "res = np.load('data/res.npy', allow_pickle=True)"
   ]
  },
  {
   "cell_type": "code",
   "execution_count": 12,
   "metadata": {},
   "outputs": [],
   "source": [
    "res = list(res)"
   ]
  },
  {
   "cell_type": "code",
   "execution_count": 13,
   "metadata": {},
   "outputs": [
    {
     "output_type": "stream",
     "name": "stdout",
     "text": [
      "['Verified Oxygen Cylinder', 'Plasma', 'Remdisvir', 'Hospital beds', 'Oximeter', 'Ventilator']\n"
     ]
    }
   ],
   "source": [
    "print(res)"
   ]
  },
  {
   "cell_type": "code",
   "execution_count": 14,
   "metadata": {},
   "outputs": [],
   "source": [
    "dictn = dict(zip(res, [0]*len(res)))"
   ]
  },
  {
   "cell_type": "code",
   "execution_count": 15,
   "metadata": {},
   "outputs": [
    {
     "output_type": "execute_result",
     "data": {
      "text/plain": [
       "{'Verified Oxygen Cylinder': 0,\n",
       " 'Plasma': 0,\n",
       " 'Remdisvir': 0,\n",
       " 'Hospital beds': 0,\n",
       " 'Oximeter': 0,\n",
       " 'Ventilator': 0}"
      ]
     },
     "metadata": {},
     "execution_count": 15
    }
   ],
   "source": [
    "dictn"
   ]
  },
  {
   "cell_type": "code",
   "execution_count": 1,
   "metadata": {},
   "outputs": [],
   "source": [
    "import numpy as np"
   ]
  },
  {
   "cell_type": "code",
   "execution_count": 2,
   "metadata": {},
   "outputs": [
    {
     "output_type": "stream",
     "name": "stdout",
     "text": [
      "Original arrays:\n[ 1.   7.   8.   2.   0.1  3.  15.   2.5]\n"
     ]
    }
   ],
   "source": [
    "array1 = np.array([1, 7, 8, 2, 0.1, 3, 15, 2.5])\n",
    "print(\"Original arrays:\")\n",
    "print(array1)"
   ]
  },
  {
   "cell_type": "code",
   "execution_count": 3,
   "metadata": {},
   "outputs": [
    {
     "output_type": "stream",
     "name": "stdout",
     "text": [
      "\nk smallest values:\n[0.1 1.  2.  2.5]\n"
     ]
    }
   ],
   "source": [
    "k = 4\n",
    "result = np.argpartition(array1, k)\n",
    "print(\"\\nk smallest values:\")\n",
    "print(array1[result[:k]])"
   ]
  },
  {
   "cell_type": "code",
   "execution_count": 6,
   "metadata": {},
   "outputs": [
    {
     "output_type": "execute_result",
     "data": {
      "text/plain": [
       "array([0.1, 1. , 2. , 2.5])"
      ]
     },
     "metadata": {},
     "execution_count": 6
    }
   ],
   "source": [
    "array1[result[:k]]"
   ]
  },
  {
   "cell_type": "code",
   "execution_count": 3,
   "metadata": {},
   "outputs": [
    {
     "output_type": "error",
     "ename": "FileNotFoundError",
     "evalue": "[Errno 2] No such file or directory: 'data/default_dict.npy'",
     "traceback": [
      "\u001b[0;31m---------------------------------------------------------------------------\u001b[0m",
      "\u001b[0;31mFileNotFoundError\u001b[0m                         Traceback (most recent call last)",
      "\u001b[0;32m<ipython-input-3-29cfbad2d4fb>\u001b[0m in \u001b[0;36m<module>\u001b[0;34m\u001b[0m\n\u001b[0;32m----> 1\u001b[0;31m \u001b[0mdict\u001b[0m\u001b[0;34m(\u001b[0m\u001b[0mnp\u001b[0m\u001b[0;34m.\u001b[0m\u001b[0mload\u001b[0m\u001b[0;34m(\u001b[0m\u001b[0;34m'data/default_dict.npy'\u001b[0m\u001b[0;34m,\u001b[0m \u001b[0mallow_pickle\u001b[0m\u001b[0;34m=\u001b[0m \u001b[0;32mTrue\u001b[0m\u001b[0;34m)\u001b[0m\u001b[0;34m)\u001b[0m\u001b[0;34m\u001b[0m\u001b[0;34m\u001b[0m\u001b[0m\n\u001b[0m",
      "\u001b[0;32m~/Desktop/covid-bot/covid-bot/lib/python3.8/site-packages/numpy/lib/npyio.py\u001b[0m in \u001b[0;36mload\u001b[0;34m(file, mmap_mode, allow_pickle, fix_imports, encoding)\u001b[0m\n\u001b[1;32m    415\u001b[0m             \u001b[0mown_fid\u001b[0m \u001b[0;34m=\u001b[0m \u001b[0;32mFalse\u001b[0m\u001b[0;34m\u001b[0m\u001b[0;34m\u001b[0m\u001b[0m\n\u001b[1;32m    416\u001b[0m         \u001b[0;32melse\u001b[0m\u001b[0;34m:\u001b[0m\u001b[0;34m\u001b[0m\u001b[0;34m\u001b[0m\u001b[0m\n\u001b[0;32m--> 417\u001b[0;31m             \u001b[0mfid\u001b[0m \u001b[0;34m=\u001b[0m \u001b[0mstack\u001b[0m\u001b[0;34m.\u001b[0m\u001b[0menter_context\u001b[0m\u001b[0;34m(\u001b[0m\u001b[0mopen\u001b[0m\u001b[0;34m(\u001b[0m\u001b[0mos_fspath\u001b[0m\u001b[0;34m(\u001b[0m\u001b[0mfile\u001b[0m\u001b[0;34m)\u001b[0m\u001b[0;34m,\u001b[0m \u001b[0;34m\"rb\"\u001b[0m\u001b[0;34m)\u001b[0m\u001b[0;34m)\u001b[0m\u001b[0;34m\u001b[0m\u001b[0;34m\u001b[0m\u001b[0m\n\u001b[0m\u001b[1;32m    418\u001b[0m             \u001b[0mown_fid\u001b[0m \u001b[0;34m=\u001b[0m \u001b[0;32mTrue\u001b[0m\u001b[0;34m\u001b[0m\u001b[0;34m\u001b[0m\u001b[0m\n\u001b[1;32m    419\u001b[0m \u001b[0;34m\u001b[0m\u001b[0m\n",
      "\u001b[0;31mFileNotFoundError\u001b[0m: [Errno 2] No such file or directory: 'data/default_dict.npy'"
     ]
    }
   ],
   "source": [
    "dict(np.load('data/de'fault_dict.npy', allow_pickle= True))"
   ]
  },
  {
   "cell_type": "code",
   "execution_count": 1,
   "metadata": {},
   "outputs": [],
   "source": [
    "import json"
   ]
  },
  {
   "cell_type": "code",
   "execution_count": 3,
   "metadata": {},
   "outputs": [],
   "source": [
    "f = open('../telegram_request.json')"
   ]
  },
  {
   "cell_type": "code",
   "execution_count": 4,
   "metadata": {},
   "outputs": [],
   "source": [
    "data = json.load(f)"
   ]
  },
  {
   "cell_type": "code",
   "execution_count": 5,
   "metadata": {},
   "outputs": [
    {
     "output_type": "execute_result",
     "data": {
      "text/plain": [
       "{'update_id': 900070988,\n",
       " 'message': {'message_id': 61,\n",
       "  'from': {'id': 1721282209,\n",
       "   'is_bot': False,\n",
       "   'first_name': 'Nidhir',\n",
       "   'last_name': 'Bhavsar',\n",
       "   'language_code': 'en'},\n",
       "  'chat': {'id': 1721282209,\n",
       "   'first_name': 'Nidhir',\n",
       "   'last_name': 'Bhavsar',\n",
       "   'type': 'private'},\n",
       "  'date': 1619879684,\n",
       "  'text': 'nidhir bhavsar\\nnid989@gmail.com\\n8160790964\\nvadodara\\ngujarat\\n1 2 5\\ndescription',\n",
       "  'entities': [{'offset': 15, 'length': 16, 'type': 'email'},\n",
       "   {'offset': 32, 'length': 10, 'type': 'phone_number'}]}}"
      ]
     },
     "metadata": {},
     "execution_count": 5
    }
   ],
   "source": [
    "data"
   ]
  },
  {
   "cell_type": "code",
   "execution_count": 8,
   "metadata": {},
   "outputs": [
    {
     "output_type": "execute_result",
     "data": {
      "text/plain": [
       "1721282209"
      ]
     },
     "metadata": {},
     "execution_count": 8
    }
   ],
   "source": [
    "data[\"message\"][\"chat\"][\"id\"]"
   ]
  },
  {
   "cell_type": "code",
   "execution_count": 26,
   "metadata": {},
   "outputs": [],
   "source": [
    "dl = ['nidhir', '8160790964', 'nid989@nid.com', 'Vadodara', 'Gujarat', ['Remdisvir', 'Hospital beds', 'Ventilator'], '']"
   ]
  },
  {
   "cell_type": "code",
   "execution_count": 27,
   "metadata": {},
   "outputs": [
    {
     "output_type": "execute_result",
     "data": {
      "text/plain": [
       "['nidhir',\n",
       " '8160790964',\n",
       " 'nid989@nid.com',\n",
       " 'Vadodara',\n",
       " 'Gujarat',\n",
       " ['Remdisvir', 'Hospital beds', 'Ventilator'],\n",
       " '']"
      ]
     },
     "metadata": {},
     "execution_count": 27
    }
   ],
   "source": [
    "dl"
   ]
  },
  {
   "cell_type": "code",
   "execution_count": 3,
   "metadata": {},
   "outputs": [
    {
     "output_type": "execute_result",
     "data": {
      "text/plain": [
       "1721282209"
      ]
     },
     "metadata": {},
     "execution_count": 3
    }
   ],
   "source": [
    "ci = 1721282209\n",
    "ci"
   ]
  },
  {
   "cell_type": "code",
   "execution_count": 4,
   "metadata": {},
   "outputs": [],
   "source": [
    "def save_details(detail_list, chat_id):\n",
    "    detail_list.append(cdhat_id)\n",
    "    np.save(\"detail_list\", detail_list)"
   ]
  },
  {
   "cell_type": "code",
   "execution_count": 2,
   "metadata": {},
   "outputs": [],
   "source": [
    "import numpy as np"
   ]
  },
  {
   "cell_type": "code",
   "execution_count": 2,
   "metadata": {},
   "outputs": [],
   "source": [
    "dict_ = {'Name': 'nidhir', 'Mobile': '8160790964', 'Email': 'nid989@nid.com', 'City': 'Vadodara', 'State': 'Gujarat', 'Resources': ['Remdisvir', 'Hospital beds', 'Ventilator'], 'Description': ''} "
   ]
  },
  {
   "cell_type": "code",
   "execution_count": 7,
   "metadata": {},
   "outputs": [],
   "source": [
    "dict_['chat_id'] = '1721282209'"
   ]
  },
  {
   "cell_type": "code",
   "execution_count": 8,
   "metadata": {},
   "outputs": [
    {
     "output_type": "execute_result",
     "data": {
      "text/plain": [
       "{'Name': 'nidhir',\n",
       " 'Mobile': '8160790964',\n",
       " 'Email': 'nid989@nid.com',\n",
       " 'City': 'Vadodara',\n",
       " 'State': 'Gujarat',\n",
       " 'Resources': ['Remdisvir', 'Hospital beds', 'Ventilator'],\n",
       " 'Description': '',\n",
       " 'chat_id': '1721282209'}"
      ]
     },
     "metadata": {},
     "execution_count": 8
    }
   ],
   "source": [
    "dict_"
   ]
  },
  {
   "cell_type": "code",
   "execution_count": 11,
   "metadata": {},
   "outputs": [],
   "source": [
    "np.save('../data/beta_dict', dict_)"
   ]
  },
  {
   "cell_type": "code",
   "execution_count": 3,
   "metadata": {},
   "outputs": [
    {
     "output_type": "execute_result",
     "data": {
      "text/plain": [
       "array({'Name': 'nidhir bhavsar', 'Mobile': '9016667385', 'Email': 'bhavsarmanan@gmail.com', 'City': 'Vadodara', 'State': 'Gujarat', 'Resources': ['Remdisvir', 'Hospital beds', 'Oximeter'], 'Description': '', 'chat_id': 1721282209},\n",
       "      dtype=object)"
      ]
     },
     "metadata": {},
     "execution_count": 3
    }
   ],
   "source": [
    "np.load('../data/beta_dict.npy', allow_pickle=True)"
   ]
  },
  {
   "cell_type": "code",
   "execution_count": null,
   "metadata": {},
   "outputs": [],
   "source": []
  }
 ]
}