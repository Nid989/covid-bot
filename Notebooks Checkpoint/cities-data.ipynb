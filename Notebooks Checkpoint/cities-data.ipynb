{
 "metadata": {
  "language_info": {
   "codemirror_mode": {
    "name": "ipython",
    "version": 3
   },
   "file_extension": ".py",
   "mimetype": "text/x-python",
   "name": "python",
   "nbconvert_exporter": "python",
   "pygments_lexer": "ipython3",
   "version": "3.8.5"
  },
  "orig_nbformat": 2,
  "kernelspec": {
   "name": "python385jvsc74a57bd0c3dd1b5b82f6172d0031733c4dccbcff7794f15adf628e933336fb0b9ac0a0fa",
   "display_name": "Python 3.8.5 64-bit ('base': conda)"
  },
  "metadata": {
   "interpreter": {
    "hash": "0df97f00cba6ca3b9fa5e333423c3e107000db4919e2ad790c404c8d12dbab42"
   }
  }
 },
 "nbformat": 4,
 "nbformat_minor": 2,
 "cells": [
  {
   "source": [
    "import pandas as pd\n",
    "import numpy as np"
   ],
   "cell_type": "code",
   "metadata": {},
   "execution_count": 21,
   "outputs": []
  },
  {
   "cell_type": "code",
   "execution_count": 22,
   "metadata": {},
   "outputs": [],
   "source": [
    "df = pd.read_csv(\"../data/in.csv\")"
   ]
  },
  {
   "cell_type": "code",
   "execution_count": 23,
   "metadata": {},
   "outputs": [
    {
     "output_type": "execute_result",
     "data": {
      "text/plain": [
       "0           Delhi\n",
       "1          Mumbai\n",
       "2         Kolkāta\n",
       "3       Bangalore\n",
       "4         Chennai\n",
       "          ...    \n",
       "182        Panaji\n",
       "183         Damān\n",
       "184     Kavaratti\n",
       "185     Panchkula\n",
       "186    Kagaznāgār\n",
       "Name: city, Length: 187, dtype: object"
      ]
     },
     "metadata": {},
     "execution_count": 23
    }
   ],
   "source": [
    "df.city"
   ]
  },
  {
   "cell_type": "code",
   "execution_count": 24,
   "metadata": {},
   "outputs": [],
   "source": [
    "x = list(df.city)"
   ]
  },
  {
   "cell_type": "code",
   "execution_count": 26,
   "metadata": {},
   "outputs": [],
   "source": [
    "if 'Guwahati' in x:\n",
    "    print('yes')"
   ]
  },
  {
   "cell_type": "code",
   "execution_count": 4,
   "metadata": {},
   "outputs": [
    {
     "output_type": "execute_result",
     "data": {
      "text/plain": [
       "array(['Delhi', 'Mumbai', 'Kolkāta', 'Bangalore', 'Chennai', 'Hyderābād',\n",
       "       'Pune', 'Ahmadābād', 'Sūrat', 'Lucknow', 'Jaipur', 'Cawnpore',\n",
       "       'Mirzāpur', 'Nāgpur', 'Ghāziābād', 'Indore', 'Vadodara',\n",
       "       'Vishākhapatnam', 'Bhopāl', 'Chinchvad', 'Patna', 'Ludhiāna',\n",
       "       'Āgra', 'Kalyān', 'Madurai', 'Jamshedpur', 'Nāsik', 'Farīdābād',\n",
       "       'Aurangābād', 'Rājkot', 'Meerut', 'Jabalpur', 'Thāne', 'Dhanbād',\n",
       "       'Allahābād', 'Vārānasi', 'Srīnagar', 'Amritsar', 'Alīgarh',\n",
       "       'Bhiwandi', 'Gwalior', 'Bhilai', 'Hāora', 'Rānchi', 'Bezwāda',\n",
       "       'Chandīgarh', 'Mysore', 'Raipur', 'Kota', 'Bareilly', 'Jodhpur',\n",
       "       'Coimbatore', 'Dispur', 'Guwāhāti', 'Solāpur', 'Trichinopoly',\n",
       "       'Hubli', 'Jalandhar', 'Bhubaneshwar', 'Bhayandar', 'Morādābād',\n",
       "       'Kolhāpur', 'Thiruvananthapuram', 'Sahāranpur', 'Warangal',\n",
       "       'Salem', 'Mālegaon', 'Kochi', 'Gorakhpur', 'Shimoga', 'Tiruppūr',\n",
       "       'Guntūr', 'Raurkela', 'Mangalore', 'Nānded', 'Cuttack', 'Chānda',\n",
       "       'Dehra Dūn', 'Durgāpur', 'Āsansol', 'Bhāvnagar', 'Amrāvati',\n",
       "       'Nellore', 'Ajmer', 'Tinnevelly', 'Bīkaner', 'Agartala', 'Ujjain',\n",
       "       'Jhānsi', 'Ulhāsnagar', 'Davangere', 'Jammu', 'Belgaum',\n",
       "       'Gulbarga', 'Jāmnagar', 'Dhūlia', 'Gaya', 'Jalgaon', 'Kurnool',\n",
       "       'Udaipur', 'Bellary', 'Sāngli', 'Tuticorin', 'Calicut', 'Akola',\n",
       "       'Bhāgalpur', 'Sīkar', 'Tumkūr', 'Quilon', 'Muzaffarnagar',\n",
       "       'Bhīlwāra', 'Nizāmābād', 'Bhātpāra', 'Kākināda', 'Parbhani',\n",
       "       'Pānihāti', 'Lātūr', 'Rohtak', 'Rājapālaiyam', 'Ahmadnagar',\n",
       "       'Cuddapah', 'Rājahmundry', 'Alwar', 'Muzaffarpur', 'Bilāspur',\n",
       "       'Mathura', 'Kāmārhāti', 'Patiāla', 'Saugor', 'Bijāpur',\n",
       "       'Brahmapur', 'Shāhjānpur', 'Trichūr', 'Barddhamān', 'Kulti',\n",
       "       'Sambalpur', 'Purnea', 'Hisar', 'Fīrozābād', 'Bīdar', 'Rāmpur',\n",
       "       'Shiliguri', 'Bāli', 'Pānīpat', 'Karīmnagar', 'Bhuj',\n",
       "       'Ichalkaranji', 'Tirupati', 'Hospet', 'Āīzawl', 'Sannai',\n",
       "       'Bārāsat', 'Ratlām', 'Handwāra', 'Drug', 'Imphāl', 'Anantapur',\n",
       "       'Etāwah', 'Rāichūr', 'Ongole', 'Bharatpur', 'Begusarai', 'Sonīpat',\n",
       "       'Rāmgundam', 'Hāpur', 'Uluberiya', 'Porbandar', 'Pāli',\n",
       "       'Vizianagaram', 'Puducherry', 'Karnāl', 'Nāgercoil', 'Tanjore',\n",
       "       'Sambhal', 'Shimla', 'Ghāndīnagar', 'Shillong', 'New Delhi',\n",
       "       'Port Blair', 'Gangtok', 'Kohīma', 'Itānagar', 'Panaji', 'Damān',\n",
       "       'Kavaratti', 'Panchkula', 'Kagaznāgār'], dtype=object)"
      ]
     },
     "metadata": {},
     "execution_count": 4
    }
   ],
   "source": [
    "np.array(df.city)"
   ]
  },
  {
   "cell_type": "code",
   "execution_count": 6,
   "metadata": {},
   "outputs": [],
   "source": [
    "np.save(\"../data/cities\", np.array(df.city))"
   ]
  },
  {
   "cell_type": "code",
   "execution_count": 19,
   "metadata": {},
   "outputs": [],
   "source": [
    "import sys\n",
    "sys.path.append('../')"
   ]
  },
  {
   "cell_type": "code",
   "execution_count": 85,
   "metadata": {},
   "outputs": [],
   "source": [
    "import numpy as np"
   ]
  },
  {
   "cell_type": "code",
   "execution_count": 86,
   "metadata": {},
   "outputs": [],
   "source": [
    "res_list = ['Oxygen Cylinder', 'Plasma', 'Remdesivir', 'Hospital beds', 'Oximeter', 'Ventilator']"
   ]
  },
  {
   "cell_type": "code",
   "execution_count": 87,
   "metadata": {},
   "outputs": [],
   "source": [
    "np.save('../data/res.npy', res_list)"
   ]
  },
  {
   "cell_type": "code",
   "execution_count": 88,
   "metadata": {},
   "outputs": [],
   "source": [
    "res = np.load('../data/res.npy', allow_pickle=True)"
   ]
  },
  {
   "cell_type": "code",
   "execution_count": 89,
   "metadata": {},
   "outputs": [],
   "source": [
    "res = list(res)"
   ]
  },
  {
   "cell_type": "code",
   "execution_count": 90,
   "metadata": {},
   "outputs": [
    {
     "output_type": "stream",
     "name": "stdout",
     "text": [
      "['Oxygen Cylinder', 'Plasma', 'Remdesivir', 'Hospital beds', 'Oximeter', 'Ventilator']\n"
     ]
    }
   ],
   "source": [
    "print(res)"
   ]
  },
  {
   "cell_type": "code",
   "execution_count": 14,
   "metadata": {},
   "outputs": [],
   "source": [
    "dictn = dict(zip(res, [0]*len(res)))"
   ]
  },
  {
   "cell_type": "code",
   "execution_count": 15,
   "metadata": {},
   "outputs": [
    {
     "output_type": "execute_result",
     "data": {
      "text/plain": [
       "{'Verified Oxygen Cylinder': 0,\n",
       " 'Plasma': 0,\n",
       " 'Remdisvir': 0,\n",
       " 'Hospital beds': 0,\n",
       " 'Oximeter': 0,\n",
       " 'Ventilator': 0}"
      ]
     },
     "metadata": {},
     "execution_count": 15
    }
   ],
   "source": [
    "dictn"
   ]
  },
  {
   "cell_type": "code",
   "execution_count": 1,
   "metadata": {},
   "outputs": [],
   "source": [
    "import numpy as np"
   ]
  },
  {
   "cell_type": "code",
   "execution_count": 2,
   "metadata": {},
   "outputs": [
    {
     "output_type": "stream",
     "name": "stdout",
     "text": [
      "Original arrays:\n[ 1.   7.   8.   2.   0.1  3.  15.   2.5]\n"
     ]
    }
   ],
   "source": [
    "array1 = np.array([1, 7, 8, 2, 0.1, 3, 15, 2.5])\n",
    "print(\"Original arrays:\")\n",
    "print(array1)"
   ]
  },
  {
   "cell_type": "code",
   "execution_count": 3,
   "metadata": {},
   "outputs": [
    {
     "output_type": "stream",
     "name": "stdout",
     "text": [
      "\nk smallest values:\n[0.1 1.  2.  2.5]\n"
     ]
    }
   ],
   "source": [
    "k = 4\n",
    "result = np.argpartition(array1, k)\n",
    "print(\"\\nk smallest values:\")\n",
    "print(array1[result[:k]])"
   ]
  },
  {
   "cell_type": "code",
   "execution_count": 6,
   "metadata": {},
   "outputs": [
    {
     "output_type": "execute_result",
     "data": {
      "text/plain": [
       "array([0.1, 1. , 2. , 2.5])"
      ]
     },
     "metadata": {},
     "execution_count": 6
    }
   ],
   "source": [
    "array1[result[:k]]"
   ]
  },
  {
   "cell_type": "code",
   "execution_count": 3,
   "metadata": {},
   "outputs": [
    {
     "output_type": "error",
     "ename": "FileNotFoundError",
     "evalue": "[Errno 2] No such file or directory: 'data/default_dict.npy'",
     "traceback": [
      "\u001b[0;31m---------------------------------------------------------------------------\u001b[0m",
      "\u001b[0;31mFileNotFoundError\u001b[0m                         Traceback (most recent call last)",
      "\u001b[0;32m<ipython-input-3-29cfbad2d4fb>\u001b[0m in \u001b[0;36m<module>\u001b[0;34m\u001b[0m\n\u001b[0;32m----> 1\u001b[0;31m \u001b[0mdict\u001b[0m\u001b[0;34m(\u001b[0m\u001b[0mnp\u001b[0m\u001b[0;34m.\u001b[0m\u001b[0mload\u001b[0m\u001b[0;34m(\u001b[0m\u001b[0;34m'data/default_dict.npy'\u001b[0m\u001b[0;34m,\u001b[0m \u001b[0mallow_pickle\u001b[0m\u001b[0;34m=\u001b[0m \u001b[0;32mTrue\u001b[0m\u001b[0;34m)\u001b[0m\u001b[0;34m)\u001b[0m\u001b[0;34m\u001b[0m\u001b[0;34m\u001b[0m\u001b[0m\n\u001b[0m",
      "\u001b[0;32m~/Desktop/covid-bot/covid-bot/lib/python3.8/site-packages/numpy/lib/npyio.py\u001b[0m in \u001b[0;36mload\u001b[0;34m(file, mmap_mode, allow_pickle, fix_imports, encoding)\u001b[0m\n\u001b[1;32m    415\u001b[0m             \u001b[0mown_fid\u001b[0m \u001b[0;34m=\u001b[0m \u001b[0;32mFalse\u001b[0m\u001b[0;34m\u001b[0m\u001b[0;34m\u001b[0m\u001b[0m\n\u001b[1;32m    416\u001b[0m         \u001b[0;32melse\u001b[0m\u001b[0;34m:\u001b[0m\u001b[0;34m\u001b[0m\u001b[0;34m\u001b[0m\u001b[0m\n\u001b[0;32m--> 417\u001b[0;31m             \u001b[0mfid\u001b[0m \u001b[0;34m=\u001b[0m \u001b[0mstack\u001b[0m\u001b[0;34m.\u001b[0m\u001b[0menter_context\u001b[0m\u001b[0;34m(\u001b[0m\u001b[0mopen\u001b[0m\u001b[0;34m(\u001b[0m\u001b[0mos_fspath\u001b[0m\u001b[0;34m(\u001b[0m\u001b[0mfile\u001b[0m\u001b[0;34m)\u001b[0m\u001b[0;34m,\u001b[0m \u001b[0;34m\"rb\"\u001b[0m\u001b[0;34m)\u001b[0m\u001b[0;34m)\u001b[0m\u001b[0;34m\u001b[0m\u001b[0;34m\u001b[0m\u001b[0m\n\u001b[0m\u001b[1;32m    418\u001b[0m             \u001b[0mown_fid\u001b[0m \u001b[0;34m=\u001b[0m \u001b[0;32mTrue\u001b[0m\u001b[0;34m\u001b[0m\u001b[0;34m\u001b[0m\u001b[0m\n\u001b[1;32m    419\u001b[0m \u001b[0;34m\u001b[0m\u001b[0m\n",
      "\u001b[0;31mFileNotFoundError\u001b[0m: [Errno 2] No such file or directory: 'data/default_dict.npy'"
     ]
    }
   ],
   "source": [
    "dict(np.load('data/de'fault_dict.npy', allow_pickle= True))"
   ]
  },
  {
   "cell_type": "code",
   "execution_count": 1,
   "metadata": {},
   "outputs": [],
   "source": [
    "import json"
   ]
  },
  {
   "cell_type": "code",
   "execution_count": 3,
   "metadata": {},
   "outputs": [],
   "source": [
    "f = open('../telegram_request.json')"
   ]
  },
  {
   "cell_type": "code",
   "execution_count": 4,
   "metadata": {},
   "outputs": [],
   "source": [
    "data = json.load(f)"
   ]
  },
  {
   "cell_type": "code",
   "execution_count": 5,
   "metadata": {},
   "outputs": [
    {
     "output_type": "execute_result",
     "data": {
      "text/plain": [
       "{'update_id': 900070988,\n",
       " 'message': {'message_id': 61,\n",
       "  'from': {'id': 1721282209,\n",
       "   'is_bot': False,\n",
       "   'first_name': 'Nidhir',\n",
       "   'last_name': 'Bhavsar',\n",
       "   'language_code': 'en'},\n",
       "  'chat': {'id': 1721282209,\n",
       "   'first_name': 'Nidhir',\n",
       "   'last_name': 'Bhavsar',\n",
       "   'type': 'private'},\n",
       "  'date': 1619879684,\n",
       "  'text': 'nidhir bhavsar\\nnid989@gmail.com\\n8160790964\\nvadodara\\ngujarat\\n1 2 5\\ndescription',\n",
       "  'entities': [{'offset': 15, 'length': 16, 'type': 'email'},\n",
       "   {'offset': 32, 'length': 10, 'type': 'phone_number'}]}}"
      ]
     },
     "metadata": {},
     "execution_count": 5
    }
   ],
   "source": [
    "data"
   ]
  },
  {
   "cell_type": "code",
   "execution_count": 8,
   "metadata": {},
   "outputs": [
    {
     "output_type": "execute_result",
     "data": {
      "text/plain": [
       "1721282209"
      ]
     },
     "metadata": {},
     "execution_count": 8
    }
   ],
   "source": [
    "data[\"message\"][\"chat\"][\"id\"]"
   ]
  },
  {
   "cell_type": "code",
   "execution_count": 77,
   "metadata": {},
   "outputs": [],
   "source": [
    "dl = ['nidhir', '8160790964', 'nid989@nid.com', 'Vadodara', 'Gujarat', ['Remdisvir', 'Hospital beds', 'Ventilator'], '']"
   ]
  },
  {
   "cell_type": "code",
   "execution_count": 78,
   "metadata": {},
   "outputs": [
    {
     "output_type": "execute_result",
     "data": {
      "text/plain": [
       "['nidhir',\n",
       " '8160790964',\n",
       " 'nid989@nid.com',\n",
       " 'Vadodara',\n",
       " 'Gujarat',\n",
       " ['Remdisvir', 'Hospital beds', 'Ventilator'],\n",
       " '']"
      ]
     },
     "metadata": {},
     "execution_count": 78
    }
   ],
   "source": [
    "dl"
   ]
  },
  {
   "cell_type": "code",
   "execution_count": 3,
   "metadata": {},
   "outputs": [
    {
     "output_type": "execute_result",
     "data": {
      "text/plain": [
       "1721282209"
      ]
     },
     "metadata": {},
     "execution_count": 3
    }
   ],
   "source": [
    "ci = 1721282209\n",
    "ci"
   ]
  },
  {
   "cell_type": "code",
   "execution_count": 4,
   "metadata": {},
   "outputs": [],
   "source": [
    "def save_details(detail_list, chat_id):\n",
    "    detail_list.append(cdhat_id)\n",
    "    np.save(\"detail_list\", detail_list)"
   ]
  },
  {
   "cell_type": "code",
   "execution_count": 7,
   "metadata": {},
   "outputs": [],
   "source": [
    "import numpy as np"
   ]
  },
  {
   "cell_type": "code",
   "execution_count": 6,
   "metadata": {},
   "outputs": [],
   "source": [
    "dict_ = {'Name': '', 'Mobile': '', 'Email': '', 'City': '', 'State': '', 'Resources': [''], 'Description': ''} "
   ]
  },
  {
   "cell_type": "code",
   "execution_count": 80,
   "metadata": {},
   "outputs": [],
   "source": [
    "dict_['chat_id'] = ''\n",
    "dict_['has_plasma'] = False"
   ]
  },
  {
   "cell_type": "code",
   "execution_count": 7,
   "metadata": {},
   "outputs": [
    {
     "output_type": "execute_result",
     "data": {
      "text/plain": [
       "{'Name': '',\n",
       " 'Mobile': '',\n",
       " 'Email': '',\n",
       " 'City': '',\n",
       " 'State': '',\n",
       " 'Resources': [''],\n",
       " 'Description': ''}"
      ]
     },
     "metadata": {},
     "execution_count": 7
    }
   ],
   "source": [
    "dict_"
   ]
  },
  {
   "cell_type": "code",
   "execution_count": 8,
   "metadata": {},
   "outputs": [],
   "source": [
    "np.save('../data/default_dict', dict_)"
   ]
  },
  {
   "cell_type": "code",
   "execution_count": 9,
   "metadata": {},
   "outputs": [],
   "source": [
    "x = np.load('../data/default_dict.npy', allow_pickle=True)"
   ]
  },
  {
   "cell_type": "code",
   "execution_count": 10,
   "metadata": {},
   "outputs": [
    {
     "output_type": "execute_result",
     "data": {
      "text/plain": [
       "array({'Name': '', 'Mobile': '', 'Email': '', 'City': '', 'State': '', 'Resources': [''], 'Description': ''},\n",
       "      dtype=object)"
      ]
     },
     "metadata": {},
     "execution_count": 10
    }
   ],
   "source": [
    "x"
   ]
  },
  {
   "cell_type": "code",
   "execution_count": 22,
   "metadata": {},
   "outputs": [
    {
     "output_type": "stream",
     "name": "stdout",
     "text": [
      "{1: {'Name': 'nidhir Bhavsar', 'Mobile': '8160790964', 'Email': 'nidbhavsar989@gmail.com', 'City': 'Vadodara', 'State': 'Gujarat', 'Resources': ['Hospital beds', 'Oximeter'], 'Description': '', 'chat_id': 1721282209, 'has_plasma': True}}\n"
     ]
    }
   ],
   "source": [
    "a = dict(enumerate(x.flatten(), 1))\n",
    "print()a"
   ]
  },
  {
   "cell_type": "code",
   "execution_count": 18,
   "metadata": {},
   "outputs": [
    {
     "output_type": "execute_result",
     "data": {
      "text/plain": [
       "1721282209"
      ]
     },
     "metadata": {},
     "execution_count": 18
    }
   ],
   "source": [
    "a[1][\"chat_id\"]"
   ]
  },
  {
   "cell_type": "code",
   "execution_count": 64,
   "metadata": {},
   "outputs": [],
   "source": [
    "import json\n",
    "f = open('../telegram_request.json')\n",
    "user_data = json.load(f)\n",
    "txt = user_data[\"message\"][\"text\"]"
   ]
  },
  {
   "cell_type": "code",
   "execution_count": 91,
   "metadata": {},
   "outputs": [
    {
     "output_type": "stream",
     "name": "stdout",
     "text": [
      "nidhir\nnidbhavsar989@gmail.com\n8160790964\nVakodara\nGujarat\n2 3 4\ndescription\n"
     ]
    }
   ],
   "source": [
    "print(txt)"
   ]
  },
  {
   "cell_type": "code",
   "execution_count": 99,
   "metadata": {},
   "outputs": [
    {
     "output_type": "execute_result",
     "data": {
      "text/plain": [
       "\"'nidhir\\\\nnidbhavsar989@gmail.com\\\\n8160790964\\\\nVakodara\\\\nGujarat\\\\n2 3 4\\\\ndescription'\""
      ]
     },
     "metadata": {},
     "execution_count": 99
    }
   ],
   "source": [
    "x = repr(txt)\n",
    "x"
   ]
  },
  {
   "cell_type": "code",
   "execution_count": 104,
   "metadata": {},
   "outputs": [
    {
     "output_type": "execute_result",
     "data": {
      "text/plain": [
       "'nidhir\\\\nnidbhavsar989@gmail.com\\\\n8160790964\\\\nVakodara\\\\nGujarat\\\\n2 3 4\\\\ndescription'"
      ]
     },
     "metadata": {},
     "execution_count": 104
    }
   ],
   "source": [
    "a = txt.replace(\"\\n\", \"\\\\n\")\n",
    "a"
   ]
  },
  {
   "cell_type": "code",
   "execution_count": 105,
   "metadata": {},
   "outputs": [
    {
     "output_type": "stream",
     "name": "stdout",
     "text": [
      "nidhir\\nnidbhavsar989@gmail.com\\n8160790964\\nVakodara\\nGujarat\\n2 3 4\\ndescription\n<class 'str'>\nyes\n"
     ]
    }
   ],
   "source": [
    "# coding=utf8\n",
    "# the above tag defines encoding for this document and is for Python 2.x compatibility\n",
    "\n",
    "import re\n",
    "\n",
    "regex = r\"^([a-zA-Z]+(\\\\n[a-zA-Z]+)+)([0-9]*)@[a-zA-Z]+\\.([a-zA-Z]+(\\\\[a-zA-Z]+)+)[0-9]+\\\\n([a-zA-Z]+(\\\\n[a-zA-Z]+)+)\\\\n([0-9]+( [0-9]+)*)\\\\n[a-zA-Z].*$\"\n",
    "\n",
    "\n",
    "\n",
    "test_str = \"nidhir\\\\nnidbhavsar989@gmail.com\\\\n8160790964\\\\nVakodara\\\\nGujarat\\\\n2 3 4\\\\ndescription\"\n",
    "\n",
    "print(test_str)\n",
    "print(type(test_str))\n",
    "\n",
    "matches = re.match(regex, a)\n",
    "\n",
    "# if matches:\n",
    "#     print (\"Match was found at {start}-{end}: {match}\".format(start = matches.start(), end = matches.end(), match = matches.group()))\n",
    "    \n",
    "#     for groupNum in range(0, len(matches.groups())):\n",
    "#         groupNum = groupNum + 1\n",
    "        \n",
    "#         print (\"Group {groupNum} found at {start}-{end}: {group}\".format(groupNum = groupNum, start = matches.start(groupNum), end = matches.end(groupNum), group = matches.group(groupNum)))\n",
    "\n",
    "# # Note: for Python 2.7 compatibility, use ur\"\" to prefix the regex and u\"\" to prefix the test string and substitution.\n",
    "if matches:\n",
    "    print(\"yes\")\n",
    "else:\n",
    "    print(\"no\")"
   ]
  },
  {
   "cell_type": "code",
   "execution_count": 107,
   "metadata": {},
   "outputs": [
    {
     "output_type": "stream",
     "name": "stdout",
     "text": [
      "yes\n"
     ]
    }
   ],
   "source": [
    "regex = r\"^[0-9]\\sin\\s[a-zA-Z]+$\"\n",
    "\n",
    "test_str = \"2 in vadoara\"\n",
    "\n",
    "matches = re.match(regex, test_str)\n",
    "\n",
    "# if matches:\n",
    "#     print (\"Match was found at {start}-{end}: {match}\".format(start = matches.start(), end = matches.end(), match = matches.group()))\n",
    "    \n",
    "#     for groupNum in range(0, len(matches.groups())):\n",
    "#         groupNum = groupNum + 1\n",
    "        \n",
    "#         print (\"Group {groupNum} found at {start}-{end}: {group}\".format(groupNum = groupNum, start = matches.start(groupNum), end = matches.end(groupNum), group = matches.group(groupNum)))\n",
    "if matches:\n",
    "    print(\"yes\")\n",
    "else:\n",
    "    print(\"no\")"
   ]
  },
  {
   "cell_type": "code",
   "execution_count": 113,
   "metadata": {},
   "outputs": [],
   "source": [
    "def example():\n",
    "    a = \"nidhir\\\\nnidbhavsar989@gmail.com\\\\n8160790964\\\\nVakodara\\\\nGujarat\\\\n2 3 4\\\\ndescription\"\n",
    "    regex = r\"^([a-zA-Z]+(\\\\n[a-zA-Z]+)+)([0-9]*)@[a-zA-Z]+\\.([a-zA-Z]+(\\\\[a-zA-Z]+)+)[0-9]+\\\\n([a-zA-Z]+(\\\\n[a-zA-Z]+)+)\\\\n([0-9]+( [0-9]+)*)\\\\n[a-zA-Z].*$\"\n",
    "    matches = re.match(regex, a)\n",
    "\n",
    "    if matches:\n",
    "        return \"true\"\n",
    "    else: \n",
    "        regex = r\"^[0-9]\\sin\\s[a-zA-Z]+$\"\n",
    "        matches = re.match(regex, a)\n",
    "        if matches:\n",
    "            return \"true 2\"\n",
    "        else:\n",
    "            regex = r\"^[a-zA-Z]{1,2}(\\+|\\-)+( [a-zA-Z]{1,2}(\\+|\\-))*.*$\"\n",
    "            matches = re.match(regex, a)\n",
    "            if matches:\n",
    "                return \"true\"\n",
    "            else:\n",
    "                pass\n",
    "    return \"none\""
   ]
  },
  {
   "cell_type": "code",
   "execution_count": 117,
   "metadata": {},
   "outputs": [
    {
     "output_type": "execute_result",
     "data": {
      "text/plain": [
       "'1 in vadodara'"
      ]
     },
     "metadata": {},
     "execution_count": 117
    }
   ],
   "source": [
    "txt = \"1\\ in vadodara\"\n",
    "a = txt.replace('\\n','\\\\n')\n",
    "a"
   ]
  },
  {
   "cell_type": "code",
   "execution_count": 6,
   "metadata": {},
   "outputs": [
    {
     "output_type": "stream",
     "name": "stdout",
     "text": [
      "Match 1 was found at 0-7: AB+ AB-\nGroup 1 found at 2-3: +\nGroup 2 found at 3-7:  AB-\nGroup 3 found at 6-7: -\n"
     ]
    }
   ],
   "source": [
    "# coding=utf8\n",
    "# the above tag defines encoding for this document and is for Python 2.x compatibility\n",
    "\n",
    "import re\n",
    "\n",
    "regex = r\"^[a-zA-Z]{1,2}(\\+|\\-)+( [a-zA-Z]{1,2}(\\+|\\-))*.*$\"\n",
    "\n",
    "test_str = \"AB+ AB-\"\n",
    "\n",
    "matches = re.finditer(regex, test_str, re.DOTALL)\n",
    "\n",
    "for matchNum, match in enumerate(matches, start=1):\n",
    "    \n",
    "    print (\"Match {matchNum} was found at {start}-{end}: {match}\".format(matchNum = matchNum, start = match.start(), end = match.end(), match = match.group()))\n",
    "    \n",
    "    for groupNum in range(0, len(match.groups())):\n",
    "        groupNum = groupNum + 1\n",
    "        \n",
    "        print (\"Group {groupNum} found at {start}-{end}: {group}\".format(groupNum = groupNum, start = match.start(groupNum), end = match.end(groupNum), group = match.group(groupNum)))\n",
    "\n",
    "# Note: for Python 2.7 compatibility, use ur\"\" to prefix the regex and u\"\" to prefix the test string and substitution.\n"
   ]
  },
  {
   "cell_type": "code",
   "execution_count": 6,
   "metadata": {},
   "outputs": [
    {
     "output_type": "stream",
     "name": "stdout",
     "text": [
      "['1 ', ' Vadodara']\n['1', 'Vadodara']\n"
     ]
    }
   ],
   "source": [
    "x = \"1 in Vadodara\"\n",
    "s = x.split(\"in\")\n",
    "print(s)\n",
    "print([i.strip() for i in s])"
   ]
  },
  {
   "cell_type": "code",
   "execution_count": 51,
   "metadata": {},
   "outputs": [],
   "source": [
    "x =[['Aakash', 'Mumbai', 'Maharashtra', '7859860581', 'Plasma,Remdisvir,Hospital beds,Plasma_ab+ve,Plasma_ab-ve,', '', '2021-05-03T11:01:34.951Z'], ['Aakash', 'Mumbai', 'Maharashtra', '7859860581', 'Remdisvir,Hospital beds,', '', '2021-05-03T11:03:43.351Z'], ['Aakash', 'Mumbai', 'Maharashtra', '7859860581', 'Plasma,Remdisvir,Hospital beds,Plasma_ab+ve,Plasma_ab-ve,', '', '2021-05-03T11:04:08.094Z'], ['Aakash', 'Mumbai', 'Maharashtra', '7859860581', 'Remdisvir,Hospital beds,', '', '2021-05-03T11:07:45.962Z'], ['nidhir', 'Mumbai', 'Maharashtra', '8160790964', 'Remdisvir,Hospital beds,', '', '2021-05-03T11:07:45.962Z'], ['khimendra', 'Mumbai', 'Maharashtra', '9016667385', 'Remdisvir,Hospital beds,', '', '2021-05-03T11:07:45.962Z'],['Khimendra', 'Mumbai', 'Maharashtra', '9016667385', 'Remdisvir,Hospital beds,', '', '2021-05-03T11:07:45.962Z']]"
   ]
  },
  {
   "cell_type": "code",
   "execution_count": 52,
   "metadata": {},
   "outputs": [
    {
     "output_type": "stream",
     "name": "stdout",
     "text": [
      "[['aakash', '7859860581'], ['aakash', '7859860581'], ['aakash', '7859860581'], ['aakash', '7859860581'], ['nidhir', '8160790964'], ['khimendra', '9016667385'], ['khimendra', '9016667385']]\n"
     ]
    }
   ],
   "source": [
    "list_ = []\n",
    "for i in x:\n",
    "    name = i[0].lower()\n",
    "    mobile = i[3] \n",
    "    temp = [name, mobile]\n",
    "    list_.append(temp)\n",
    "print(list_)"
   ]
  },
  {
   "cell_type": "code",
   "execution_count": 58,
   "metadata": {},
   "outputs": [
    {
     "output_type": "stream",
     "name": "stdout",
     "text": [
      "aakash 7859860581\nnidhir 8160790964\nkhimendra 9016667385\n"
     ]
    }
   ],
   "source": [
    "res = list(set(map(lambda i: tuple(sorted(i)), list_)))"
   ]
  },
  {
   "cell_type": "code",
   "execution_count": 53,
   "metadata": {},
   "outputs": [],
   "source": [
    "for i in res:\n",
    "    print(i[1], i[0])"
   ]
  },
  {
   "cell_type": "code",
   "execution_count": 63,
   "metadata": {},
   "outputs": [],
   "source": [
    "temp_msg = \"\"\n",
    "for i in res:\n",
    "    temp_msg = temp_msg + \"{0:<5} {1}\".format(i[1], i[0]) + \"\\n\""
   ]
  },
  {
   "cell_type": "code",
   "execution_count": 64,
   "metadata": {},
   "outputs": [
    {
     "output_type": "stream",
     "name": "stdout",
     "text": [
      "aakash 7859860581\nnidhir 8160790964\nkhimendra 9016667385\n\n"
     ]
    }
   ],
   "source": [
    "print(temp_msg)"
   ]
  },
  {
   "cell_type": "code",
   "execution_count": 1,
   "metadata": {},
   "outputs": [],
   "source": [
    "states = [\"Andhrapradesh\",\"Arunachalpradesh \",\"Assam\",\"Bihar\",\"Chhattisgarh\",\"Goa\",\"Gujarat\",\"Haryana\",\"Himachal Pradesh\",\"JammuandKashmir\",\"Jharkhand\",\"Karnataka\",\"Kerala\",\"Madhypradesh\",\"Maharashtra\",\"Manipur\",\"Meghalaya\",\"Mizoram\",\"Nagaland\",\"Odisha\",\"Punjab\",\"Rajasthan\",\"Sikkim\",\"Tamilnadu\",\"Telangana\",\"Tripura\",\"Uttarpradesh\",\"Uttarakhand\",\"West Bengal\",\"Andaman and Nicobar Islands\",\"Chandigarh\",\"Dadra and Nagar Haveli\",\"Daman and Diu\",\"Lakshadweep\",\"Delhi\",\"Puducherry\"]"
   ]
  },
  {
   "cell_type": "code",
   "execution_count": 2,
   "metadata": {},
   "outputs": [
    {
     "output_type": "execute_result",
     "data": {
      "text/plain": [
       "array(['Andhra Pradesh', 'Arunachal Pradesh ', 'Assam', 'Bihar',\n",
       "       'Chhattisgarh', 'Goa', 'Gujarat', 'Haryana', 'Himachal Pradesh',\n",
       "       'Jammu and Kashmir', 'Jharkhand', 'Karnataka', 'Kerala',\n",
       "       'Madhya Pradesh', 'Maharashtra', 'Manipur', 'Meghalaya', 'Mizoram',\n",
       "       'Nagaland', 'Odisha', 'Punjab', 'Rajasthan', 'Sikkim',\n",
       "       'Tamil Nadu', 'Telangana', 'Tripura', 'Uttar Pradesh',\n",
       "       'Uttarakhand', 'West Bengal', 'Andaman and Nicobar Islands',\n",
       "       'Chandigarh', 'Dadra and Nagar Haveli', 'Daman and Diu',\n",
       "       'Lakshadweep', 'Delhi', 'Puducherry'], dtype='<U27')"
      ]
     },
     "metadata": {},
     "execution_count": 2
    }
   ],
   "source": [
    "import numpy as np\n",
    "np.load('../data/states.npy')"
   ]
  },
  {
   "cell_type": "code",
   "execution_count": 3,
   "metadata": {},
   "outputs": [],
   "source": [
    "np.save('../data/states.npy', states)"
   ]
  },
  {
   "cell_type": "code",
   "execution_count": 5,
   "metadata": {},
   "outputs": [],
   "source": [
    "a = 2\n",
    "if a == 2:\n",
    "    pass\n",
    "else:\n",
    "    print(\"nidhir\")"
   ]
  },
  {
   "cell_type": "code",
   "execution_count": 3,
   "metadata": {},
   "outputs": [],
   "source": [
    "import re"
   ]
  },
  {
   "cell_type": "code",
   "execution_count": 14,
   "metadata": {},
   "outputs": [],
   "source": [
    "regex = r\"^[A|B|AB|O|a|b|ab|o]{1,2}(\\+|\\-)+( [a-zA-Z]{1,2}(\\+|\\-))*.*$\""
   ]
  },
  {
   "cell_type": "code",
   "execution_count": 23,
   "metadata": {},
   "outputs": [],
   "source": [
    "matches = re.match(regex, '-o')"
   ]
  },
  {
   "cell_type": "code",
   "execution_count": 24,
   "metadata": {},
   "outputs": [
    {
     "output_type": "stream",
     "name": "stdout",
     "text": [
      "dwdwq\n"
     ]
    }
   ],
   "source": [
    "if matches:\n",
    "    print('ok')\n",
    "else:\n",
    "    print(\"dwdwq\")"
   ]
  },
  {
   "cell_type": "code",
   "execution_count": 3,
   "metadata": {},
   "outputs": [],
   "source": [
    "from geosky import geo_plug\n",
    "x = geo_plug.all_CountryNames()"
   ]
  },
  {
   "cell_type": "code",
   "execution_count": 5,
   "metadata": {},
   "outputs": [
    {
     "output_type": "stream",
     "name": "stdout",
     "text": [
      "101\n"
     ]
    }
   ],
   "source": [
    "for idx, i in enumerate(x):\n",
    "    if i == \"India\":\n",
    "        print(idx)"
   ]
  },
  {
   "cell_type": "code",
   "execution_count": 6,
   "metadata": {},
   "outputs": [
    {
     "output_type": "stream",
     "name": "stdout",
     "text": [
      "India\n"
     ]
    }
   ],
   "source": [
    "print(x[101])"
   ]
  },
  {
   "cell_type": "code",
   "execution_count": 16,
   "metadata": {},
   "outputs": [],
   "source": [
    "x = geo_plug.all_Country_StateNames()"
   ]
  },
  {
   "cell_type": "code",
   "execution_count": 1,
   "metadata": {},
   "outputs": [],
   "source": [
    "import json"
   ]
  },
  {
   "cell_type": "code",
   "execution_count": 3,
   "metadata": {},
   "outputs": [],
   "source": [
    "f = open('../cities.json')\n",
    "data = json.load(f)"
   ]
  },
  {
   "cell_type": "code",
   "execution_count": 8,
   "metadata": {},
   "outputs": [
    {
     "output_type": "stream",
     "name": "stdout",
     "text": [
      "<class 'list'>\n"
     ]
    }
   ],
   "source": [
    "print(type(data))"
   ]
  },
  {
   "cell_type": "code",
   "execution_count": 13,
   "metadata": {
    "tags": []
   },
   "outputs": [
    {
     "output_type": "stream",
     "name": "stdout",
     "text": [
      "{'id': '1', 'name': 'Mumbai', 'state': 'Maharashtra'}\n<class 'dict'>\n"
     ]
    }
   ],
   "source": [
    "for i in data:\n",
    "    print(i)\n",
    "    print(type(i))\n",
    "    break"
   ]
  },
  {
   "cell_type": "code",
   "execution_count": 14,
   "metadata": {},
   "outputs": [],
   "source": [
    "cities = []\n",
    "states = []\n",
    "for i in data:\n",
    "    cities.append(i[\"name\"])\n",
    "    states.append(i[\"state\"])"
   ]
  },
  {
   "cell_type": "code",
   "execution_count": 20,
   "metadata": {},
   "outputs": [
    {
     "output_type": "execute_result",
     "data": {
      "text/plain": [
       "['Baleshwar Town',\n",
       " 'Balurghat',\n",
       " 'Tirupati',\n",
       " 'Mandapeta',\n",
       " 'Asarganj',\n",
       " 'Jammu',\n",
       " 'Modinagar',\n",
       " 'Reoti',\n",
       " 'Nilambur',\n",
       " 'Thodupuzha',\n",
       " 'Ujjain',\n",
       " 'Sangaria',\n",
       " 'Lalsot',\n",
       " 'Pune',\n",
       " 'Mattannur',\n",
       " 'Makrana',\n",
       " 'Ramngarh',\n",
       " 'Rania',\n",
       " 'Thiruvananthapuram',\n",
       " 'Alappuzha',\n",
       " 'Eluru',\n",
       " 'Bhilwara',\n",
       " 'Kanpur',\n",
       " 'Arrah',\n",
       " 'Palakkad',\n",
       " 'Jagtial',\n",
       " 'Namakkal',\n",
       " 'Tuni',\n",
       " 'Thirumangalam',\n",
       " 'Vidisha',\n",
       " 'Gobindgarh',\n",
       " 'Narwana',\n",
       " 'Sawantwadi',\n",
       " 'Sambalpur',\n",
       " 'Chalakudy',\n",
       " 'Mahalingapura',\n",
       " 'Palai',\n",
       " 'Niwai',\n",
       " 'Ranaghat',\n",
       " 'Patti',\n",
       " 'Mancherial',\n",
       " 'Todaraisingh',\n",
       " 'Renigunta',\n",
       " 'Shendurjana',\n",
       " 'Bahadurgarh',\n",
       " 'Adra',\n",
       " 'Shiggaon',\n",
       " 'Ajmer',\n",
       " 'Rameshwaram',\n",
       " 'Panagudi',\n",
       " 'Sasvad',\n",
       " 'Bikaner',\n",
       " 'Suri',\n",
       " 'Ranchi',\n",
       " 'Pondicherry',\n",
       " 'Jodhpur',\n",
       " 'Limbdi',\n",
       " 'Tirwaganj',\n",
       " 'Kottayam',\n",
       " 'Coimbatore',\n",
       " 'Nidadavole',\n",
       " 'Veraval',\n",
       " 'Sitapur',\n",
       " 'Tharangambadi',\n",
       " 'Pratapgarh',\n",
       " 'Jamalpur',\n",
       " 'Balangir',\n",
       " 'Nizamabad',\n",
       " 'Perumbavoor',\n",
       " 'Vinukonda',\n",
       " 'Sibsagar',\n",
       " 'Talcher',\n",
       " 'Nakodar',\n",
       " 'Bharuch',\n",
       " 'Shimla',\n",
       " 'Shikohabad',\n",
       " 'Nehtaur',\n",
       " 'Unnao',\n",
       " 'Rajauri',\n",
       " 'Soron',\n",
       " 'Jehanabad',\n",
       " 'Barpeta',\n",
       " 'Wankaner',\n",
       " 'Tirupathur',\n",
       " 'Naugachhia',\n",
       " 'Sikar',\n",
       " 'Lakhisarai',\n",
       " 'Zaidpur',\n",
       " 'Manendragarh',\n",
       " 'Pasan',\n",
       " 'Charkhi Dadri',\n",
       " 'Vijapur',\n",
       " 'Ranebennuru',\n",
       " 'Raikot',\n",
       " 'Panchkula',\n",
       " 'Rajapalayam',\n",
       " 'Lonar',\n",
       " 'Palladam',\n",
       " 'Malda',\n",
       " 'Sarsod',\n",
       " 'Sausar',\n",
       " 'Nellore',\n",
       " 'Ichalkaranji',\n",
       " 'Kadapa',\n",
       " 'Kovvur',\n",
       " 'Udaipur',\n",
       " 'Jammalamadugu',\n",
       " 'Ramtek',\n",
       " 'Hardoi ',\n",
       " 'Rudrapur',\n",
       " 'Orai',\n",
       " 'Risod',\n",
       " 'Partur',\n",
       " 'Tindivanam',\n",
       " 'Madanapalle',\n",
       " 'Rajgarh (Alwar)',\n",
       " 'Manawar',\n",
       " 'Muktsar',\n",
       " 'Shahade',\n",
       " 'Niwari',\n",
       " 'Seoni',\n",
       " 'Shujalpur',\n",
       " 'Motipur',\n",
       " 'Safidon',\n",
       " 'Mainaguri',\n",
       " 'Sattenapalle',\n",
       " 'Nawabganj',\n",
       " 'Shikarpur, Bulandshahr',\n",
       " 'Tumsar',\n",
       " 'Surat',\n",
       " 'Amreli',\n",
       " 'Mandamarri',\n",
       " 'Adilabad',\n",
       " 'Sugauli',\n",
       " 'Santipur',\n",
       " 'Rajampet',\n",
       " 'Satara',\n",
       " 'Rudauli',\n",
       " 'Sohagpur',\n",
       " 'Kannur',\n",
       " 'Piriyapatna',\n",
       " 'Shahpur',\n",
       " 'Loha',\n",
       " 'Nandyal',\n",
       " 'Mandsaur',\n",
       " 'Nagaur',\n",
       " 'Bilaspur',\n",
       " 'Byasanagar',\n",
       " 'Varkala',\n",
       " 'Jamui',\n",
       " 'Venkatagiri',\n",
       " 'Rehli',\n",
       " 'Mandalgarh',\n",
       " 'Nandura',\n",
       " 'Mungeli',\n",
       " 'Mandideep',\n",
       " 'Vadnagar',\n",
       " 'Malout',\n",
       " 'Rasra',\n",
       " 'Hugli-Chinsurah',\n",
       " 'Mahbubnagar',\n",
       " 'Jorhat',\n",
       " 'Raiganj',\n",
       " 'Phaltan',\n",
       " 'Sailu',\n",
       " 'Mangaldoi',\n",
       " 'Adalaj',\n",
       " 'Saharanpur',\n",
       " 'Jharsuguda',\n",
       " 'Bodhan',\n",
       " 'Manavadar',\n",
       " 'Marmagao',\n",
       " 'Nawada',\n",
       " 'Virudhunagar',\n",
       " 'Sirkali',\n",
       " 'Pathardi',\n",
       " 'Manachanallur',\n",
       " 'Kayamkulam',\n",
       " 'Petlad',\n",
       " 'Tadepalligudem',\n",
       " 'Mukhed',\n",
       " 'Karjat',\n",
       " 'Umaria',\n",
       " 'Ratnagiri',\n",
       " 'Tirukkoyilur',\n",
       " 'Shahabad',\n",
       " 'Pauri',\n",
       " 'Neyyattinkara',\n",
       " 'Usilampatti',\n",
       " 'Sadulshahar',\n",
       " 'Adyar',\n",
       " 'Rayadurg',\n",
       " 'Sopore',\n",
       " 'Naraura',\n",
       " 'Chatra',\n",
       " 'Rajam',\n",
       " 'Nandgaon',\n",
       " 'Ramgarh',\n",
       " 'Umarga',\n",
       " 'Batala',\n",
       " 'Sawai Madhopur',\n",
       " 'Ramanathapuram',\n",
       " 'Fatehpur Sikri',\n",
       " 'Rajgarh',\n",
       " 'Bobbili',\n",
       " 'Uravakonda',\n",
       " 'Paradip',\n",
       " 'Palasa Kasibugga',\n",
       " 'SUrban Agglomerationr',\n",
       " 'Pandharkaoda',\n",
       " 'Sunam',\n",
       " 'Guntur',\n",
       " 'Port Blair',\n",
       " 'Thoubal',\n",
       " 'Seoni-Malwa',\n",
       " 'Samalkha',\n",
       " 'Kendrapara',\n",
       " 'Lar',\n",
       " 'Rangia',\n",
       " 'Pauni',\n",
       " 'Nagla',\n",
       " 'Sidhpur',\n",
       " 'Porbandar',\n",
       " 'Diphu',\n",
       " 'Modasa',\n",
       " 'Tamluk',\n",
       " 'Rohtak',\n",
       " 'Srinagar',\n",
       " 'Warhapur',\n",
       " 'Morinda, India',\n",
       " 'Rafiganj',\n",
       " 'Naharlagun',\n",
       " 'Maihar',\n",
       " 'Palanpur',\n",
       " 'Chirmiri',\n",
       " 'Vikarabad',\n",
       " 'Ratlam',\n",
       " 'Mokameh',\n",
       " 'Supaul',\n",
       " 'Vikramasingapuram',\n",
       " 'Baripada Town',\n",
       " 'Unjha',\n",
       " 'Soro',\n",
       " 'Shirur',\n",
       " 'Kakinada',\n",
       " 'Oddanchatram',\n",
       " 'Tiruchirappalli',\n",
       " 'Pavagada',\n",
       " 'Sikanderpur',\n",
       " 'Pehowa',\n",
       " 'Suryapet',\n",
       " 'Sherkot',\n",
       " 'Thane',\n",
       " 'Sangole',\n",
       " 'Manjlegaon',\n",
       " 'Tiptur',\n",
       " \"O' Valley\",\n",
       " 'Pedana',\n",
       " 'Fazilka',\n",
       " 'Tirunelveli',\n",
       " 'Sambhar',\n",
       " 'Kodungallur',\n",
       " 'Pacode',\n",
       " 'Tarn Taran',\n",
       " 'Sasaram',\n",
       " 'Wani',\n",
       " 'Taranagar',\n",
       " 'Warud',\n",
       " 'Safipur',\n",
       " 'Phillaur',\n",
       " 'Akola',\n",
       " 'Hubli-Dharwad',\n",
       " 'Jalandhar Cantt.',\n",
       " 'Bhadrachalam',\n",
       " 'Uran',\n",
       " 'Mandi',\n",
       " 'Jamshedpur',\n",
       " 'Puranpur',\n",
       " 'Panagar',\n",
       " 'Raipur',\n",
       " 'Laharpur',\n",
       " 'Thangadh',\n",
       " 'Sagara',\n",
       " 'Raigarh',\n",
       " 'Pathri',\n",
       " 'Punjaipugalur',\n",
       " 'Muddebihal',\n",
       " 'Lalganj',\n",
       " 'Mundi',\n",
       " 'Sirsaganj',\n",
       " 'Saiha',\n",
       " 'Takhatgarh',\n",
       " 'Talaja',\n",
       " 'Itarsi',\n",
       " 'Mira-Bhayandar',\n",
       " 'Panaji',\n",
       " 'Patur',\n",
       " 'Sidhi',\n",
       " 'Mulbagal',\n",
       " 'Rajkot',\n",
       " 'Siliguri',\n",
       " 'Rajaldesar',\n",
       " 'Mathabhanga',\n",
       " 'Sadabad',\n",
       " 'Narasapuram',\n",
       " 'Koratla',\n",
       " 'Thakurdwara',\n",
       " 'Sinnar',\n",
       " 'Ramanagaram',\n",
       " 'Rabkavi Banhatti',\n",
       " 'Margao',\n",
       " 'Saidpur',\n",
       " 'Chilakaluripet',\n",
       " 'Salur',\n",
       " 'Vita',\n",
       " 'Indore',\n",
       " 'Jaggaiahpet',\n",
       " 'Lanka',\n",
       " 'Erode',\n",
       " 'Nirmal',\n",
       " 'Alirajpur',\n",
       " 'Sircilla',\n",
       " 'Mandya',\n",
       " 'Rapar',\n",
       " 'Mandla',\n",
       " 'Ongole',\n",
       " 'Chittoor',\n",
       " 'Mahe',\n",
       " 'Tekkalakote',\n",
       " 'Ballari',\n",
       " 'Yellandu',\n",
       " 'Kagaznagar',\n",
       " 'Sadalagi',\n",
       " 'Rajahmundry',\n",
       " 'Sivagiri',\n",
       " 'Latur',\n",
       " 'Lakshmeshwar',\n",
       " 'Memari',\n",
       " 'Tuensang',\n",
       " 'Shamsabad, Agra',\n",
       " 'Manglaur',\n",
       " 'Lakheri',\n",
       " 'Rajura',\n",
       " 'Seohara',\n",
       " 'Tenu dam-cum-Kathhara',\n",
       " 'Osmanabad',\n",
       " 'Puthuppally',\n",
       " 'Srivilliputhur',\n",
       " 'Udumalaipettai',\n",
       " 'Sandi',\n",
       " 'Simdega',\n",
       " 'Pinjore',\n",
       " 'Sirhind Fatehgarh Sahib',\n",
       " 'Raayachuru',\n",
       " 'Pollachi',\n",
       " 'Samana',\n",
       " 'Sangrur',\n",
       " 'Padrauna',\n",
       " 'Kyathampalle',\n",
       " 'Sangareddy',\n",
       " 'Saunda',\n",
       " 'Rath',\n",
       " 'Puttur',\n",
       " 'Nelamangala',\n",
       " 'Faridkot',\n",
       " 'Pulgaon',\n",
       " 'Mavelikkara',\n",
       " 'Uran Islampur',\n",
       " 'Rampurhat',\n",
       " 'Silvassa',\n",
       " 'Vijaypur',\n",
       " 'Morvi',\n",
       " 'Saharsa',\n",
       " 'Nabha',\n",
       " 'Udhagamandalam',\n",
       " 'Silchar',\n",
       " 'Kanhangad',\n",
       " 'Bhatapara',\n",
       " 'Manvi',\n",
       " 'Vandavasi',\n",
       " 'Vellakoil',\n",
       " 'Murwara (Katni)',\n",
       " 'Kurnool',\n",
       " 'Vapi',\n",
       " 'Robertsganj',\n",
       " 'Sivakasi',\n",
       " 'Surandai',\n",
       " 'Asansol',\n",
       " 'Ranipet',\n",
       " 'Lonavla',\n",
       " 'Siruguppa',\n",
       " 'Kunnamkulam',\n",
       " 'Muvattupuzha',\n",
       " 'Mukerian',\n",
       " 'Thrissur',\n",
       " 'Mauganj',\n",
       " 'Nahan',\n",
       " 'Pallikonda',\n",
       " 'Mul',\n",
       " 'Ankleshwar',\n",
       " 'Narnaul',\n",
       " 'Dhamtari',\n",
       " 'Anand',\n",
       " 'Nagina',\n",
       " 'Koyilandy',\n",
       " 'Rajakhera',\n",
       " 'Sheohar',\n",
       " 'Marigaon',\n",
       " 'Sarni',\n",
       " 'Dimapur',\n",
       " 'Mahesana',\n",
       " 'Thiruvalla',\n",
       " 'Kamareddy',\n",
       " 'Sumerpur',\n",
       " 'Kot Kapura',\n",
       " 'Imphal',\n",
       " 'Madhepura',\n",
       " 'Raver',\n",
       " 'Palani',\n",
       " 'Sihor',\n",
       " 'Talegaon Dabhade',\n",
       " 'Punganur',\n",
       " 'Kollam',\n",
       " 'Sonipat',\n",
       " 'Yavatmal',\n",
       " 'Adityapur',\n",
       " 'Lahar',\n",
       " 'Zira',\n",
       " 'PandUrban Agglomeration',\n",
       " 'Kharagpur',\n",
       " 'Jabalpur',\n",
       " 'Raghogarh-Vijaypur',\n",
       " 'Mudhol',\n",
       " 'Guntakal',\n",
       " 'Barh',\n",
       " 'Tandur',\n",
       " 'Hazaribag',\n",
       " 'Nagari',\n",
       " 'Sujanpur',\n",
       " 'Nongstoin',\n",
       " 'Thana Bhawan',\n",
       " 'Akot',\n",
       " 'Pachore',\n",
       " 'Anantnag',\n",
       " 'Tiruvethipuram',\n",
       " 'Vadodara',\n",
       " 'Sira',\n",
       " 'Jagraon',\n",
       " 'Parasi',\n",
       " 'Karimnagar',\n",
       " 'Sultanpur',\n",
       " 'Nandivaram-Guduvancheri',\n",
       " 'Panchla',\n",
       " 'Araria',\n",
       " 'Deoghar',\n",
       " 'Sholavandan',\n",
       " 'Miryalaguda',\n",
       " 'Azamgarh',\n",
       " 'Karimganj',\n",
       " 'Mathura',\n",
       " 'Srisailam Project (Right Flank Colony) Township',\n",
       " 'Sakaleshapura',\n",
       " 'Magadi',\n",
       " 'Naihati',\n",
       " 'Wardha',\n",
       " 'Chittur-Thathamangalam',\n",
       " 'Gurdaspur',\n",
       " 'Zamania',\n",
       " 'Ludhiana',\n",
       " 'Hyderabad',\n",
       " 'Tharamangalam',\n",
       " 'Samdhan',\n",
       " 'Vadalur',\n",
       " 'Pappinisseri',\n",
       " 'Murtijapur',\n",
       " 'Mangrol',\n",
       " 'Mavoor',\n",
       " 'Nagercoil',\n",
       " 'Prithvipur',\n",
       " 'Kancheepuram',\n",
       " 'Sikandrabad',\n",
       " 'Nanded-Waghala',\n",
       " 'Baramula',\n",
       " 'Nagaon',\n",
       " 'Satna',\n",
       " 'Arambagh',\n",
       " 'Amalapuram',\n",
       " 'Sainthia',\n",
       " 'Ramnagar',\n",
       " 'Ranavav',\n",
       " 'Talwara',\n",
       " 'AlipurdUrban Agglomerationr',\n",
       " 'Pakaur',\n",
       " 'Wara Seoni',\n",
       " 'Pithampur',\n",
       " 'Shivpuri',\n",
       " 'Vyara',\n",
       " 'Tundla',\n",
       " 'Rayagada',\n",
       " 'Jatani',\n",
       " 'Gurgaon',\n",
       " 'Solan',\n",
       " 'Sangli',\n",
       " 'Sheopur',\n",
       " 'Upleta',\n",
       " 'English Bazar',\n",
       " 'Ponneri',\n",
       " 'Panniyannur',\n",
       " 'Sakti',\n",
       " 'Sattur',\n",
       " 'Nellikuppam',\n",
       " 'Narkhed',\n",
       " 'Rajgir',\n",
       " 'Vadipatti',\n",
       " 'Pathanamthitta',\n",
       " 'Rampur Maniharan',\n",
       " 'Giridih',\n",
       " 'Fatehabad',\n",
       " 'Korba',\n",
       " 'Parvathipuram',\n",
       " 'Sherghati',\n",
       " 'Sehore',\n",
       " 'Sojat',\n",
       " 'Lilong',\n",
       " 'Nedumangad',\n",
       " 'Nowrozabad (Khodargama)',\n",
       " 'Achhnera',\n",
       " 'Anjar',\n",
       " 'Shishgarh',\n",
       " 'Bageshwar',\n",
       " 'Purna',\n",
       " 'Kharar',\n",
       " 'Nagapattinam',\n",
       " 'Mankachar',\n",
       " 'Jamnagar',\n",
       " 'Salem',\n",
       " 'Sahjanwa',\n",
       " 'Sultanganj',\n",
       " 'Nepanagar',\n",
       " 'Suriyampalayam',\n",
       " 'Shajapur',\n",
       " 'Chandausi',\n",
       " 'Visnagar',\n",
       " 'Kullu',\n",
       " 'Patan',\n",
       " 'Rupnagar',\n",
       " 'Madurai',\n",
       " 'Ladwa',\n",
       " 'Patiala',\n",
       " 'Punalur',\n",
       " 'Valparai',\n",
       " 'Vaijapur',\n",
       " 'Rewari',\n",
       " 'Mussoorie',\n",
       " 'Samthar',\n",
       " 'Rau',\n",
       " 'Powayan',\n",
       " 'Aizawl',\n",
       " 'Tehri',\n",
       " 'Mysore',\n",
       " 'Phalodi',\n",
       " 'Nainpur',\n",
       " 'Lachhmangarh',\n",
       " 'Paravoor',\n",
       " 'Manmad',\n",
       " 'Nokha',\n",
       " 'Bhadrak',\n",
       " 'Sarangpur',\n",
       " 'Belagavi',\n",
       " 'Khanna',\n",
       " 'Keshod',\n",
       " 'Mahasamund',\n",
       " 'Nanpara',\n",
       " 'Umarkhed',\n",
       " 'Sanduru',\n",
       " 'Ponnani',\n",
       " 'Bankura',\n",
       " 'New Delhi',\n",
       " 'Srikakulam',\n",
       " 'Jalandhar',\n",
       " 'Zirakpur',\n",
       " 'Katihar',\n",
       " 'Nargund',\n",
       " 'Kaithal',\n",
       " 'Nagarkurnool',\n",
       " 'Revelganj',\n",
       " 'Taraori',\n",
       " 'Nohar',\n",
       " 'Karaikal',\n",
       " 'Dehri-on-Sone',\n",
       " 'Sironj',\n",
       " 'Thammampatti',\n",
       " 'Lathi',\n",
       " 'Mhowgaon',\n",
       " 'Jaipur',\n",
       " 'Losal',\n",
       " 'Meerut',\n",
       " 'Jhumri Tilaiya',\n",
       " 'Suratgarh',\n",
       " 'Jhansi',\n",
       " 'Wadhwan',\n",
       " 'Ladnu',\n",
       " 'Godhra',\n",
       " 'Dehradun',\n",
       " 'Salaya',\n",
       " 'Hapur',\n",
       " 'Utraula',\n",
       " 'Kohima',\n",
       " 'Tiruttani',\n",
       " 'Savner',\n",
       " 'Khambhat',\n",
       " 'Markapur',\n",
       " 'Purulia',\n",
       " 'Shrigonda',\n",
       " 'Sivaganga',\n",
       " 'Ganjbasoda',\n",
       " 'Sundarnagar',\n",
       " 'Alwar',\n",
       " 'Sindhnur',\n",
       " 'Pernampattu',\n",
       " 'Bharatpur',\n",
       " 'Lalitpur',\n",
       " 'Sankari',\n",
       " 'Rawatsar',\n",
       " 'Yamunanagar',\n",
       " 'Kavali',\n",
       " 'Lakhimpur',\n",
       " 'Sambhal',\n",
       " 'Gudur',\n",
       " 'Palampur',\n",
       " 'Piro',\n",
       " 'Agartala',\n",
       " 'Baharampur',\n",
       " 'Shahpura',\n",
       " 'Rishikesh',\n",
       " 'Tarbha',\n",
       " 'Kolkata',\n",
       " 'Sankarankovil',\n",
       " 'Vaikom',\n",
       " 'Srirampore',\n",
       " 'Chandigarh',\n",
       " 'Chikkamagaluru',\n",
       " 'Rawatbhata',\n",
       " 'Vizianagaram',\n",
       " 'Mount Abu',\n",
       " 'Sanand',\n",
       " 'Anantapur',\n",
       " 'Aligarh',\n",
       " 'Siwan',\n",
       " 'Sardhana',\n",
       " 'Kolar',\n",
       " 'Arsikere',\n",
       " 'Bhilai Nagar',\n",
       " 'Pihani',\n",
       " 'Lumding',\n",
       " 'Makhdumpur',\n",
       " 'Rajpura',\n",
       " 'Rairangpur',\n",
       " 'Attingal',\n",
       " 'Muzaffarpur',\n",
       " 'Vrindavan',\n",
       " 'Palwal',\n",
       " 'Sundargarh',\n",
       " 'Longowal',\n",
       " 'Begusarai',\n",
       " 'Warisaliganj',\n",
       " 'Wanaparthy',\n",
       " 'Hardwar',\n",
       " 'Narkatiaganj',\n",
       " 'Malkapur',\n",
       " 'Multai',\n",
       " 'Purnia',\n",
       " 'Purwa',\n",
       " 'Tiruchengode',\n",
       " 'Paithan',\n",
       " 'Aurangabad',\n",
       " 'Madhugiri',\n",
       " 'Todabhim',\n",
       " 'Khowai',\n",
       " 'Taki',\n",
       " 'Padra',\n",
       " 'Sonamukhi',\n",
       " 'Maharajpur',\n",
       " 'Pilkhuwa',\n",
       " 'Sardarshahar',\n",
       " 'Barmer',\n",
       " 'Mahemdabad',\n",
       " 'Bhiwandi',\n",
       " 'Ahmednagar',\n",
       " 'Pusad',\n",
       " 'Sheoganj',\n",
       " 'Maharajganj',\n",
       " 'Palia Kalan',\n",
       " 'Silao',\n",
       " 'Amritsar',\n",
       " 'Thiruthuraipoondi',\n",
       " 'Lingsugur',\n",
       " 'Gohana',\n",
       " 'Manuguru',\n",
       " 'Pattran',\n",
       " 'Roorkee',\n",
       " 'Pilibhit',\n",
       " 'Macherla',\n",
       " 'Pithoragarh',\n",
       " 'Sidlaghatta',\n",
       " 'Satana',\n",
       " 'Mahidpur',\n",
       " 'Moga',\n",
       " 'Obra',\n",
       " 'Dhuri',\n",
       " 'Sadri',\n",
       " 'Siana',\n",
       " 'Amalner',\n",
       " 'Kasaragod',\n",
       " 'Bheemunipatnam',\n",
       " 'Davanagere',\n",
       " 'Darbhanga',\n",
       " 'Bargarh',\n",
       " 'Hindupur',\n",
       " 'Mokokchung',\n",
       " 'Radhanpur',\n",
       " 'Bhavnagar',\n",
       " 'Manasa',\n",
       " 'Shamli',\n",
       " 'Pandhurna',\n",
       " 'Lalgudi',\n",
       " 'Nimbahera',\n",
       " 'Vadgaon Kasba',\n",
       " 'Mayang Imphal',\n",
       " 'Sabalgarh',\n",
       " 'Vasai-Virar',\n",
       " 'Kochi',\n",
       " 'Kalyan-Dombivali',\n",
       " 'Sillod',\n",
       " 'Soyagaon',\n",
       " 'Mehkar',\n",
       " 'Tarikere',\n",
       " 'Sunabeda',\n",
       " 'Naidupet',\n",
       " 'Pali',\n",
       " 'Gudivada',\n",
       " 'Mudalagi',\n",
       " 'Dharmavaram',\n",
       " 'Pasighat',\n",
       " 'Vijayapura',\n",
       " 'Kadi',\n",
       " 'Sahawar',\n",
       " 'Renukoot',\n",
       " 'Washim',\n",
       " 'Parbhani',\n",
       " 'Manali',\n",
       " 'Mirzapur',\n",
       " 'Tuljapur',\n",
       " 'Viswanatham',\n",
       " 'Tura',\n",
       " 'Bokaro Steel City',\n",
       " 'Gobichettipalayam',\n",
       " 'Kapadvanj',\n",
       " 'Parlakhemundi',\n",
       " 'Narsipatnam',\n",
       " 'Dhoraji',\n",
       " 'Sanawad',\n",
       " 'Tumkur',\n",
       " 'Sangamner',\n",
       " 'Merta City',\n",
       " 'Sedam',\n",
       " 'Madhupur',\n",
       " 'Palghar',\n",
       " 'Dhubri',\n",
       " 'Bathinda',\n",
       " 'Thiruvallur',\n",
       " 'Ujhani',\n",
       " 'Narasaraopet',\n",
       " 'Kadiri',\n",
       " 'Nainital',\n",
       " 'Rampura Phul',\n",
       " 'Hisar',\n",
       " 'Medak',\n",
       " 'Bahraich',\n",
       " 'Brahmapur',\n",
       " 'Shoranur',\n",
       " 'Namagiripettai',\n",
       " 'Samalkot',\n",
       " 'Pattamundai',\n",
       " 'Kandukur',\n",
       " 'Darjiling',\n",
       " 'Yerraguntla',\n",
       " 'Malkangiri',\n",
       " 'Guruvayoor',\n",
       " 'Uchgaon',\n",
       " 'Jalpaiguri',\n",
       " 'Ratia',\n",
       " 'Viramgam',\n",
       " 'Ottappalam',\n",
       " 'Yadgir',\n",
       " 'Mandvi',\n",
       " 'Dumraon',\n",
       " 'Kendujhar',\n",
       " 'Nuzvid',\n",
       " 'Haldwani-cum-Kathgodam',\n",
       " 'Nowgong',\n",
       " 'Pilani',\n",
       " 'Chirala',\n",
       " 'Nadbai',\n",
       " 'Kozhikode',\n",
       " 'Sanchore',\n",
       " 'Raurkela',\n",
       " 'Morshi',\n",
       " 'Peringathur',\n",
       " 'Kailasahar',\n",
       " 'Firozpur Cantt.',\n",
       " 'Sujangarh',\n",
       " 'Shahabad, Rampur',\n",
       " 'Sahaspur',\n",
       " 'Malur',\n",
       " 'Sitamarhi',\n",
       " 'Karur',\n",
       " 'Rajpipla',\n",
       " 'Rahuri',\n",
       " 'Chhapra',\n",
       " 'Medinipur',\n",
       " 'Jagdalpur',\n",
       " 'Shahabad, Hardoi',\n",
       " 'Puri',\n",
       " 'Malpura',\n",
       " 'Sadasivpet',\n",
       " 'Neemuch',\n",
       " 'Madikeri',\n",
       " 'Tadpatri',\n",
       " 'Rajsamand',\n",
       " 'Proddatur',\n",
       " 'Sholingur',\n",
       " 'Ambejogai',\n",
       " 'Mihijam',\n",
       " 'Tenkasi',\n",
       " 'Nalbari',\n",
       " 'Peravurani',\n",
       " 'Barbil',\n",
       " 'Arakkonam',\n",
       " 'Sathyamangalam',\n",
       " 'Durg',\n",
       " 'Mohali',\n",
       " 'Forbesganj',\n",
       " 'Mahad',\n",
       " 'Raisinghnagar',\n",
       " 'Malaj Khand',\n",
       " 'Polur',\n",
       " 'Bettiah',\n",
       " 'Nabadwip',\n",
       " 'Tirur',\n",
       " 'Udgir',\n",
       " 'Tirukalukundram',\n",
       " 'Tanda',\n",
       " 'Rae Bareli',\n",
       " 'Mandawa',\n",
       " 'Sonepur',\n",
       " 'Shahjahanpur',\n",
       " 'Ozar',\n",
       " 'Reengus',\n",
       " 'Tenali',\n",
       " 'Lohardaga',\n",
       " 'Pattukkottai',\n",
       " 'Hansi',\n",
       " 'Visakhapatnam',\n",
       " 'Belonia',\n",
       " 'Sihora',\n",
       " 'Adoni',\n",
       " 'Vijayawada',\n",
       " 'Wadi',\n",
       " 'Bengaluru',\n",
       " 'Bongaigaon City',\n",
       " 'Gwalior',\n",
       " 'Kota',\n",
       " 'Ambikapur',\n",
       " 'Adoor',\n",
       " 'Pipar City',\n",
       " 'Una',\n",
       " 'Panruti',\n",
       " 'Lucknow',\n",
       " 'Tittakudi',\n",
       " 'Vadakkuvalliyur',\n",
       " 'Nagda',\n",
       " 'Vijainagar, Ajmer',\n",
       " 'Theni Allinagaram',\n",
       " 'Sullurpeta',\n",
       " 'Dumka',\n",
       " 'Uthiramerur',\n",
       " 'Phulpur',\n",
       " 'Anjangaon',\n",
       " 'Farooqnagar',\n",
       " 'Karnal',\n",
       " 'Sendhwa',\n",
       " 'Shamsabad, Farrukhabad',\n",
       " 'Udupi',\n",
       " 'Parangipettai',\n",
       " 'Pilibanga',\n",
       " 'Sahaswan',\n",
       " 'Sheikhpura',\n",
       " 'Kishanganj',\n",
       " 'Nathdwara',\n",
       " 'Lal Gopalganj Nindaura',\n",
       " 'Moradabad',\n",
       " 'Nawapur',\n",
       " 'Tarakeswar',\n",
       " 'Lunglei',\n",
       " 'Tiruchendur',\n",
       " 'Balaghat',\n",
       " 'Mahuva',\n",
       " 'Dhanbad',\n",
       " 'Solapur',\n",
       " 'Bapatla',\n",
       " 'Chaibasa',\n",
       " 'Delhi',\n",
       " 'Samastipur',\n",
       " 'Mhaswad',\n",
       " 'Perambalur',\n",
       " 'Navsari',\n",
       " 'Cuttack',\n",
       " 'Bagaha',\n",
       " 'Shahbad',\n",
       " 'Bhiwani',\n",
       " 'Kapurthala',\n",
       " 'Savanur',\n",
       " 'Rosera',\n",
       " 'Bhawanipatna',\n",
       " 'Guwahati',\n",
       " 'Bellampalle',\n",
       " 'Deesa',\n",
       " 'Pen',\n",
       " 'Thirupuvanam',\n",
       " 'Narsinghgarh',\n",
       " 'Jangaon',\n",
       " 'Pandharpur',\n",
       " 'Mansa',\n",
       " 'Singrauli',\n",
       " 'Jind',\n",
       " 'Sadulpur',\n",
       " 'Vellore',\n",
       " 'Phulera',\n",
       " 'Warora',\n",
       " 'Machilipatnam',\n",
       " 'Hajipur',\n",
       " 'Gadwal',\n",
       " 'Yemmiganur',\n",
       " 'Sikandra Rao',\n",
       " 'Bhopal',\n",
       " 'Phagwara',\n",
       " 'Dispur',\n",
       " 'Allahabad',\n",
       " 'Marhaura',\n",
       " 'Bhagalpur',\n",
       " 'Siddipet',\n",
       " 'Taliparamba',\n",
       " 'Zunheboto',\n",
       " 'Navalgund',\n",
       " 'Shamgarh',\n",
       " 'Srinivaspur',\n",
       " 'Sirsi',\n",
       " 'KathUrban Agglomeration',\n",
       " 'Vedaranyam',\n",
       " 'Nanjikottai',\n",
       " 'Loni',\n",
       " 'Kalimpong',\n",
       " 'Tiruvuru',\n",
       " 'Nautanwa',\n",
       " 'Sagwara',\n",
       " 'Shahganj',\n",
       " 'Gooty',\n",
       " 'Udhampur',\n",
       " 'Gangarampur',\n",
       " 'BhabUrban Agglomeration',\n",
       " 'Khair',\n",
       " 'Shirdi',\n",
       " 'Ashok Nagar',\n",
       " 'Pallapatti',\n",
       " 'Gumia',\n",
       " 'Shrirampur',\n",
       " 'Shirpur-Warwade',\n",
       " 'Mumbai',\n",
       " 'Bhongir',\n",
       " 'Mangrulpir',\n",
       " 'Songadh',\n",
       " 'Gandhinagar',\n",
       " 'Rampur',\n",
       " 'Tilhar',\n",
       " 'Naila Janjgir',\n",
       " 'Ranibennur',\n",
       " 'Prantij',\n",
       " 'Nashik',\n",
       " 'Umred',\n",
       " 'Pindwara',\n",
       " 'Dhenkanal',\n",
       " 'Amravati',\n",
       " 'Etawah',\n",
       " 'Talode',\n",
       " 'Bhuj',\n",
       " 'Shrirangapattana',\n",
       " 'Vatakara',\n",
       " 'Sagar',\n",
       " 'Thanjavur',\n",
       " ...]"
      ]
     },
     "metadata": {},
     "execution_count": 20
    }
   ],
   "source": []
  },
  {
   "cell_type": "code",
   "execution_count": 1,
   "metadata": {},
   "outputs": [],
   "source": [
    "import numpy as np"
   ]
  },
  {
   "cell_type": "code",
   "execution_count": 17,
   "metadata": {},
   "outputs": [
    {
     "output_type": "execute_result",
     "data": {
      "text/plain": [
       "array(['OxygenCylinder', 'Plasma', 'Remdesivir', 'HospitalBeds',\n",
       "       'Oximeter', 'Ventilator'], dtype='<U14')"
      ]
     },
     "metadata": {},
     "execution_count": 17
    }
   ],
   "source": [
    "np.load('../data/res.npy', allow_pickle=True)"
   ]
  },
  {
   "cell_type": "code",
   "execution_count": 8,
   "metadata": {},
   "outputs": [],
   "source": [
    "res = ['Oxygen Cylinder', 'Plasma', 'Remdesivir', 'Hospital Beds', 'Oximeter', 'Ventilator']"
   ]
  },
  {
   "cell_type": "code",
   "execution_count": 9,
   "metadata": {},
   "outputs": [
    {
     "output_type": "execute_result",
     "data": {
      "text/plain": [
       "['Oxygen Cylinder',\n",
       " 'Plasma',\n",
       " 'Remdesivir',\n",
       " 'Hospital Beds',\n",
       " 'Oximeter',\n",
       " 'Ventilator']"
      ]
     },
     "metadata": {},
     "execution_count": 9
    }
   ],
   "source": [
    "res"
   ]
  },
  {
   "cell_type": "code",
   "execution_count": 10,
   "metadata": {},
   "outputs": [],
   "source": [
    "np.save('../data/resource.npy', res)"
   ]
  },
  {
   "cell_type": "code",
   "execution_count": 4,
   "metadata": {},
   "outputs": [
    {
     "output_type": "stream",
     "name": "stdout",
     "text": [
      "c:\\Users\\nidbh\\work\\covid-bot\n"
     ]
    }
   ],
   "source": [
    "cd .."
   ]
  },
  {
   "cell_type": "code",
   "execution_count": 2,
   "metadata": {},
   "outputs": [],
   "source": [
    "import pandas as pd"
   ]
  },
  {
   "cell_type": "code",
   "execution_count": 6,
   "metadata": {},
   "outputs": [],
   "source": [
    "cities = pd.read_csv('archive/cities_r2.csv')"
   ]
  },
  {
   "cell_type": "code",
   "execution_count": 11,
   "metadata": {},
   "outputs": [],
   "source": [
    "x = cities['name_of_city']"
   ]
  },
  {
   "cell_type": "code",
   "execution_count": 16,
   "metadata": {},
   "outputs": [],
   "source": [
    "x = list(x)"
   ]
  },
  {
   "cell_type": "code",
   "execution_count": 18,
   "metadata": {},
   "outputs": [],
   "source": [
    "a = [i.strip() for i in x]"
   ]
  },
  {
   "source": [
    "cities = a\n",
    "print(cities)\n",
    "print(len(cities))"
   ],
   "cell_type": "code",
   "metadata": {},
   "execution_count": 41,
   "outputs": [
    {
     "output_type": "stream",
     "name": "stdout",
     "text": [
      "['Abohar', 'Achalpur', 'Adilabad', 'Adityapur', 'Adoni', 'Agartala', 'Agra', 'Ahmadabad', 'Ahmadnagar', 'Aizawl', 'Ajmer', 'Akbarpur', 'Akola', 'Alandur', 'Alappuzha', 'Aligarh', 'Allahabad', 'Alwar', 'Ambala', 'Ambala Sadar', 'Ambarnath', 'Ambattur', 'Ambikapur', 'Ambur', 'Amravati', 'Amreli', 'Amritsar', 'Amroha', 'Anand', 'Anantapur', 'Anantnag', 'Arrah', 'Asansol', 'Ashoknagar Kalyangarh', 'Aurangabad', 'Aurangabad', 'Avadi', 'Azamgarh', 'Badlapur', 'Bagaha', 'Bagalkot', 'Bahadurgarh', 'Baharampur', 'Bahraich', 'Baidyabati', 'Baleshwar Town', 'Ballia', 'Bally', 'Bally City', 'Balurghat', 'Banda', 'Bankura', 'Bansberia', 'Banswara', 'Baran', 'Baranagar', 'Barasat', 'Baraut', 'Barddhaman', 'Bareilly', 'Baripada Town', 'Barnala', 'Barrackpur', 'Barshi', 'Basirhat', 'Basti', 'Batala', 'Bathinda', 'Beawar', 'Begusarai', 'Belgaum', 'Bellary', 'Bengaluru', 'Bettiah', 'Betul', 'Bhadrak', 'Bhadravati', 'Bhadreswar', 'Bhagalpur', 'Bhalswa Jahangir Pur', 'Bharatpur', 'Bharuch', 'Bhatpara', 'Bhavnagar', 'Bhilai Nagar', 'Bhilwara', 'Bhimavaram', 'Bhind', 'Bhiwadi', 'Bhiwandi', 'Bhiwani', 'Bhopal', 'Bhubaneswar Town', 'Bhuj', 'Bhusawal', 'Bid', 'Bidar', 'Bidhan Nagar', 'Biharsharif', 'Bijapur', 'Bikaner', 'Bilaspur', 'Bokaro Steel City', 'Bongaon', 'Botad', 'Brahmapur Town', 'Budaun', 'Bulandshahr', 'Bundi', 'Burari', 'Burhanpur', 'Buxar', 'Champdani', 'Chandannagar', 'Chandausi', 'Chandigarh', 'Chandrapur', 'Chapra', 'Chas', 'Chennai', 'Chhattarpur', 'Chhindwara', 'Chikmagalur', 'Chilakaluripet', 'Chitradurga', 'Chittaurgarh', 'Chittoor', 'Churu', 'Coimbatore', 'Cuddalore', 'Cuttack', 'Dabgram', 'Dallo Pura', 'Damoh', 'Darbhanga', 'Darjiling', 'Datia', 'Davanagere', 'Deesa', 'Dehradun', 'Dehri', 'Delhi', 'Delhi Cantonment', 'Deoghar', 'Deoli', 'Deoria', 'Dewas', 'Dhanbad', 'Dharmavaram', 'Dhaulpur', 'Dhule', 'Dibrugarh', 'Dimapur', 'Dinapur Nizamat', 'Dindigul', 'Dum Dum', 'Durg', 'Durgapur', 'Eluru', 'English Bazar', 'Erode', 'Etah', 'Etawah', 'Faizabad', 'Faridabad', 'Farrukhabad-cum-Fatehgarh', 'Fatehpur', 'Firozabad', 'Firozpur', 'Gadag-Betigeri', 'Gandhidham', 'Gandhinagar', 'Ganganagar', 'Gangapur City', 'Gangawati', 'Gaya', 'Ghazipur', 'Giridih', 'Godhra', 'Gokal Pur', 'Gonda', 'Gondal', 'Gondiya', 'Gorakhpur', 'Greater Hyderabad', 'Greater Mumbai', 'Greater Noida', 'Gudivada', 'Gulbarga', 'Guna', 'Guntakal', 'Guntur', 'Gurgaon', 'Guwahati', 'Gwalior', 'Habra', 'Hajipur', 'Haldia', 'Haldwani-cum-Kathgodam', 'Halisahar', 'Hanumangarh', 'Haora', 'Hapur', 'Hardoi', 'Hardwar', 'Hassan', 'Hastsal', 'Hathras', 'Hazaribag', 'Hindaun', 'Hindupur', 'Hinganghat', 'Hisar', 'Hoshangabad', 'Hoshiarpur', 'Hospet', 'Hosur', 'Hubli-Dharwad', 'Hugli-Chinsurah', 'Ichalkaranji', 'Imphal', 'Indore', 'Jabalpur', 'Jagadhri', 'Jagdalpur', 'Jaipur', 'Jalandhar', 'Jalgaon', 'Jalna', 'Jalpaiguri', 'Jamalpur', 'Jammu', 'Jamnagar', 'Jamshedpur', 'Jamuria', 'Jaunpur', 'Jehanabad', 'Jetpur Navagadh', 'Jhansi', 'Jhunjhunun', 'Jind', 'Jodhpur', 'Junagadh', 'Kadapa', 'Kaithal', 'Kakinada', 'Kalol', 'Kalyani', 'Kamarhati', 'Kancheepuram', 'Kanchrapara', 'Kanpur', 'Kanpur City', 'Karaikkudi', 'Karawal Nagar', 'Karimnagar', 'Karnal', 'Kasganj', 'Kashipur', 'Katihar', 'Khammam', 'Khandwa', 'Khanna', 'Kharagpur', 'Khardaha', 'Khargone', 'Khora', 'Khurja', 'Kirari Suleman Nagar', 'Kishanganj', 'Kishangarh', 'Kochi', 'Kolar', 'Kolhapur', 'Kolkata', 'Kollam', 'Korba', 'Kota', 'Kozhikode', 'Krishnanagar', 'Kulti', 'Kumbakonam', 'Kurichi', 'Kurnool', 'Lakhimpur', 'Lalitpur', 'Latur', 'Loni', 'Lucknow', 'Ludhiana', 'Machilipatnam', 'Madanapalle', 'Madavaram', 'Madhyamgram', 'Madurai', 'Mahbubnagar', 'Mahesana', 'Maheshtala', 'Mainpuri', 'Malegaon', 'Malerkotla', 'Mandoli', 'Mandsaur', 'Mandya', 'Mangalore', 'Mango', 'Mathura', 'Maunath Bhanjan', 'Medinipur', 'Meerut', 'Mira Bhayander', 'Miryalaguda', 'Mirzapur-cum-Vindhyachal', 'Modinagar', 'Moga', 'Moradabad', 'Morena', 'Morvi', 'Motihari', 'Mughalsarai', 'Muktsar', 'Munger', 'Murwara', 'Mustafabad', 'Muzaffarnagar', 'Muzaffarpur', 'Mysore', 'Nabadwip', 'Nadiad', 'Nagaon', 'Nagapattinam', 'Nagaur', 'Nagda', 'Nagercoil', 'Nagpur', 'Naihati', 'Nalgonda', 'Nanded Waghala', 'Nandurbar', 'Nandyal', 'Nangloi Jat', 'Narasaraopet', 'Nashik', 'Navi Mumbai', 'Navi Mumbai Panvel Raigarh', 'Navsari', 'Neemuch', 'Nellore', 'New Delhi', 'Neyveli', 'Nizamabad', 'Noida', 'North Barrackpur', 'North Dum Dum', 'Ongole', 'Orai', 'Osmanabad', 'Ozhukarai', 'Palakkad', 'Palanpur', 'Pali', 'Pallavaram', 'Palwal', 'Panchkula', 'Panihati', 'Panipat', 'Panvel', 'Parbhani', 'Patan', 'Pathankot', 'Patiala', 'Patna', 'Pilibhit', 'Pimpri Chinchwad', 'Pithampur', 'Porbandar', 'Port Blair', 'Proddatur', 'Puducherry', 'Pudukkottai', 'Pune', 'Puri', 'Purnia', 'Puruliya', 'Rae Bareli', 'Raichur', 'Raiganj', 'Raigarh', 'Raipur', 'Rajahmundry', 'Rajapalayam', 'Rajarhat Gopalpur', 'Rajkot', 'Rajnandgaon', 'Rajpur Sonarpur', 'Ramagundam', 'Rampur', 'Ranchi', 'Ranibennur', 'Raniganj', 'Ratlam', 'Raurkela Industrial Township', 'Raurkela Town', 'Rewa', 'Rewari', 'Rishra', 'Robertson Pet', 'Rohtak', 'Roorkee', 'Rudrapur', 'S.A.S. Nagar', 'Sagar', 'Saharanpur', 'Saharsa', 'Salem', 'Sambalpur', 'Sambhal', 'Sangli Miraj Kupwad', 'Santipur', 'Sasaram', 'Satara', 'Satna', 'Sawai Madhopur', 'Secunderabad', 'Sehore', 'Seoni', 'Serampore', 'Shahjahanpur', 'Shamli', 'Shikohabad', 'Shillong', 'Shimla', 'Shimoga', 'Shivpuri', 'Sikar', 'Silchar', 'Siliguri', 'Singrauli', 'Sirsa', 'Sitapur', 'Siwan', 'Solapur', 'Sonipat', 'South Dum Dum', 'Srikakulam', 'Srinagar', 'Sujangarh', 'Sultan Pur Majra', 'Sultanpur', 'Surat', 'Surendranagar Dudhrej', 'Suryapet', 'Tadepalligudem', 'Tadpatri', 'Tambaram', 'Tenali', 'Thane', 'Thanesar', 'Thanjavur', 'Thiruvananthapuram', 'Thoothukkudi', 'Thrissur', 'Tiruchirappalli', 'Tirunelveli', 'Tirupati', 'Tiruppur', 'Tiruvannamalai', 'Tiruvottiyur', 'Titagarh', 'Tonk', 'Tumkur', 'Udaipur', 'Udgir', 'Udupi', 'Ujjain', 'Ulhasnagar', 'Uluberia', 'Unnao', 'Uttarpara Kotrung', 'Vadodara', 'Valsad', 'Varanasi', 'Vasai Virar City', 'Vellore', 'Veraval', 'Vidisha', 'Vijayawada', 'Visakhapatnam', 'Vizianagaram', 'Warangal', 'Wardha', 'Yamunanagar', 'Yavatmal']\n493\n"
     ]
    }
   ]
  },
  {
   "cell_type": "code",
   "execution_count": 3,
   "metadata": {},
   "outputs": [],
   "source": [
    "import numpy as np"
   ]
  },
  {
   "cell_type": "code",
   "execution_count": 38,
   "metadata": {},
   "outputs": [],
   "source": [
    "city = list(np.load('data/cities.npy', allow_pickle=True))"
   ]
  },
  {
   "cell_type": "code",
   "execution_count": 43,
   "metadata": {},
   "outputs": [],
   "source": [
    "np.save('data/cities.npy', cities)"
   ]
  },
  {
   "cell_type": "code",
   "execution_count": 5,
   "metadata": {},
   "outputs": [],
   "source": [
    "cities = list(np.load('../data/cities.npy', allow_pickle=True))"
   ]
  },
  {
   "cell_type": "code",
   "execution_count": 6,
   "metadata": {},
   "outputs": [
    {
     "output_type": "stream",
     "name": "stdout",
     "text": [
      "yes\n"
     ]
    }
   ],
   "source": [
    "if 'Bhuj' in cities:\n",
    "    print('yes')"
   ]
  },
  {
   "cell_type": "code",
   "execution_count": null,
   "metadata": {},
   "outputs": [],
   "source": []
  }
 ]
}